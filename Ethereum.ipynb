{
  "nbformat": 4,
  "nbformat_minor": 0,
  "metadata": {
    "colab": {
      "name": "Ethereum.ipynb",
      "provenance": [],
      "collapsed_sections": []
    },
    "kernelspec": {
      "name": "python3",
      "display_name": "Python 3"
    },
    "language_info": {
      "name": "python"
    }
  },
  "cells": [
    {
      "cell_type": "markdown",
      "metadata": {
        "id": "D9Koq2Mfxu7z"
      },
      "source": [
        "Se importan los paquetes a utilizar"
      ]
    },
    {
      "cell_type": "code",
      "metadata": {
        "id": "__LmrkhLxoCv"
      },
      "source": [
        "import pandas as pd\n",
        "import numpy as np\n",
        "import seaborn as sns\n",
        "%matplotlib inline \n",
        "import matplotlib.pyplot as plt\n",
        "from mpl_toolkits.mplot3d import Axes3D\n",
        "import itertools\n",
        "from sklearn.ensemble import IsolationForest\n",
        "from sklearn.model_selection import train_test_split\n",
        "from sklearn.metrics import confusion_matrix, f1_score, accuracy_score, precision_score, recall_score\n",
        "from sklearn.preprocessing import MinMaxScaler\n",
        "from sklearn.model_selection import train_test_split"
      ],
      "execution_count": 11,
      "outputs": []
    },
    {
      "cell_type": "markdown",
      "metadata": {
        "id": "gERdqrxdx3Xc"
      },
      "source": [
        "Se carga el dataset"
      ]
    },
    {
      "cell_type": "code",
      "metadata": {
        "colab": {
          "base_uri": "https://localhost:8080/",
          "height": 563
        },
        "id": "iW2-AwGLx4r6",
        "outputId": "3d98346a-fa89-4a57-fbd5-71983ff86261"
      },
      "source": [
        "data= pd.read_csv('transaction_dataset.csv')\n",
        "data"
      ],
      "execution_count": 15,
      "outputs": [
        {
          "output_type": "execute_result",
          "data": {
            "text/html": [
              "<div>\n",
              "<style scoped>\n",
              "    .dataframe tbody tr th:only-of-type {\n",
              "        vertical-align: middle;\n",
              "    }\n",
              "\n",
              "    .dataframe tbody tr th {\n",
              "        vertical-align: top;\n",
              "    }\n",
              "\n",
              "    .dataframe thead th {\n",
              "        text-align: right;\n",
              "    }\n",
              "</style>\n",
              "<table border=\"1\" class=\"dataframe\">\n",
              "  <thead>\n",
              "    <tr style=\"text-align: right;\">\n",
              "      <th></th>\n",
              "      <th>Unnamed: 0</th>\n",
              "      <th>Index</th>\n",
              "      <th>Address</th>\n",
              "      <th>FLAG</th>\n",
              "      <th>Avg min between sent tnx</th>\n",
              "      <th>Avg min between received tnx</th>\n",
              "      <th>Time Diff between first and last (Mins)</th>\n",
              "      <th>Sent tnx</th>\n",
              "      <th>Received Tnx</th>\n",
              "      <th>Number of Created Contracts</th>\n",
              "      <th>Unique Received From Addresses</th>\n",
              "      <th>Unique Sent To Addresses</th>\n",
              "      <th>min value received</th>\n",
              "      <th>max value received</th>\n",
              "      <th>avg val received</th>\n",
              "      <th>min val sent</th>\n",
              "      <th>max val sent</th>\n",
              "      <th>avg val sent</th>\n",
              "      <th>min value sent to contract</th>\n",
              "      <th>max val sent to contract</th>\n",
              "      <th>avg value sent to contract</th>\n",
              "      <th>total transactions (including tnx to create contract</th>\n",
              "      <th>total Ether sent</th>\n",
              "      <th>total ether received</th>\n",
              "      <th>total ether sent contracts</th>\n",
              "      <th>total ether balance</th>\n",
              "      <th>Total ERC20 tnxs</th>\n",
              "      <th>ERC20 total Ether received</th>\n",
              "      <th>ERC20 total ether sent</th>\n",
              "      <th>ERC20 total Ether sent contract</th>\n",
              "      <th>ERC20 uniq sent addr</th>\n",
              "      <th>ERC20 uniq rec addr</th>\n",
              "      <th>ERC20 uniq sent addr.1</th>\n",
              "      <th>ERC20 uniq rec contract addr</th>\n",
              "      <th>ERC20 avg time between sent tnx</th>\n",
              "      <th>ERC20 avg time between rec tnx</th>\n",
              "      <th>ERC20 avg time between rec 2 tnx</th>\n",
              "      <th>ERC20 avg time between contract tnx</th>\n",
              "      <th>ERC20 min val rec</th>\n",
              "      <th>ERC20 max val rec</th>\n",
              "      <th>ERC20 avg val rec</th>\n",
              "      <th>ERC20 min val sent</th>\n",
              "      <th>ERC20 max val sent</th>\n",
              "      <th>ERC20 avg val sent</th>\n",
              "      <th>ERC20 min val sent contract</th>\n",
              "      <th>ERC20 max val sent contract</th>\n",
              "      <th>ERC20 avg val sent contract</th>\n",
              "      <th>ERC20 uniq sent token name</th>\n",
              "      <th>ERC20 uniq rec token name</th>\n",
              "      <th>ERC20 most sent token type</th>\n",
              "      <th>ERC20_most_rec_token_type</th>\n",
              "    </tr>\n",
              "  </thead>\n",
              "  <tbody>\n",
              "    <tr>\n",
              "      <th>0</th>\n",
              "      <td>0</td>\n",
              "      <td>1</td>\n",
              "      <td>0x00009277775ac7d0d59eaad8fee3d10ac6c805e8</td>\n",
              "      <td>0</td>\n",
              "      <td>844.26</td>\n",
              "      <td>1093.71</td>\n",
              "      <td>704785.63</td>\n",
              "      <td>721</td>\n",
              "      <td>89</td>\n",
              "      <td>0</td>\n",
              "      <td>40</td>\n",
              "      <td>118</td>\n",
              "      <td>0.000000</td>\n",
              "      <td>45.806785</td>\n",
              "      <td>6.589513</td>\n",
              "      <td>0.000000</td>\n",
              "      <td>31.220000</td>\n",
              "      <td>1.200681</td>\n",
              "      <td>0.0</td>\n",
              "      <td>0.0</td>\n",
              "      <td>0.0</td>\n",
              "      <td>810</td>\n",
              "      <td>865.691093</td>\n",
              "      <td>586.466675</td>\n",
              "      <td>0.0</td>\n",
              "      <td>-279.224419</td>\n",
              "      <td>265.0</td>\n",
              "      <td>3.558854e+07</td>\n",
              "      <td>3.560317e+07</td>\n",
              "      <td>0.0</td>\n",
              "      <td>30.0</td>\n",
              "      <td>54.0</td>\n",
              "      <td>0.0</td>\n",
              "      <td>58.0</td>\n",
              "      <td>0.0</td>\n",
              "      <td>0.0</td>\n",
              "      <td>0.0</td>\n",
              "      <td>0.0</td>\n",
              "      <td>0.00</td>\n",
              "      <td>1.500000e+07</td>\n",
              "      <td>265586.147600</td>\n",
              "      <td>0.000000</td>\n",
              "      <td>1.683100e+07</td>\n",
              "      <td>271779.920000</td>\n",
              "      <td>0.0</td>\n",
              "      <td>0.0</td>\n",
              "      <td>0.0</td>\n",
              "      <td>39.0</td>\n",
              "      <td>57.0</td>\n",
              "      <td>Cofoundit</td>\n",
              "      <td>Numeraire</td>\n",
              "    </tr>\n",
              "    <tr>\n",
              "      <th>1</th>\n",
              "      <td>1</td>\n",
              "      <td>2</td>\n",
              "      <td>0x0002b44ddb1476db43c868bd494422ee4c136fed</td>\n",
              "      <td>0</td>\n",
              "      <td>12709.07</td>\n",
              "      <td>2958.44</td>\n",
              "      <td>1218216.73</td>\n",
              "      <td>94</td>\n",
              "      <td>8</td>\n",
              "      <td>0</td>\n",
              "      <td>5</td>\n",
              "      <td>14</td>\n",
              "      <td>0.000000</td>\n",
              "      <td>2.613269</td>\n",
              "      <td>0.385685</td>\n",
              "      <td>0.000000</td>\n",
              "      <td>1.800000</td>\n",
              "      <td>0.032844</td>\n",
              "      <td>0.0</td>\n",
              "      <td>0.0</td>\n",
              "      <td>0.0</td>\n",
              "      <td>102</td>\n",
              "      <td>3.087297</td>\n",
              "      <td>3.085478</td>\n",
              "      <td>0.0</td>\n",
              "      <td>-0.001819</td>\n",
              "      <td>8.0</td>\n",
              "      <td>4.034283e+02</td>\n",
              "      <td>2.260809e+00</td>\n",
              "      <td>0.0</td>\n",
              "      <td>1.0</td>\n",
              "      <td>5.0</td>\n",
              "      <td>0.0</td>\n",
              "      <td>7.0</td>\n",
              "      <td>0.0</td>\n",
              "      <td>0.0</td>\n",
              "      <td>0.0</td>\n",
              "      <td>0.0</td>\n",
              "      <td>0.00</td>\n",
              "      <td>3.650000e+02</td>\n",
              "      <td>57.632615</td>\n",
              "      <td>2.260809</td>\n",
              "      <td>2.260809e+00</td>\n",
              "      <td>2.260809</td>\n",
              "      <td>0.0</td>\n",
              "      <td>0.0</td>\n",
              "      <td>0.0</td>\n",
              "      <td>1.0</td>\n",
              "      <td>7.0</td>\n",
              "      <td>Livepeer Token</td>\n",
              "      <td>Livepeer Token</td>\n",
              "    </tr>\n",
              "    <tr>\n",
              "      <th>2</th>\n",
              "      <td>2</td>\n",
              "      <td>3</td>\n",
              "      <td>0x0002bda54cb772d040f779e88eb453cac0daa244</td>\n",
              "      <td>0</td>\n",
              "      <td>246194.54</td>\n",
              "      <td>2434.02</td>\n",
              "      <td>516729.30</td>\n",
              "      <td>2</td>\n",
              "      <td>10</td>\n",
              "      <td>0</td>\n",
              "      <td>10</td>\n",
              "      <td>2</td>\n",
              "      <td>0.113119</td>\n",
              "      <td>1.165453</td>\n",
              "      <td>0.358906</td>\n",
              "      <td>0.050000</td>\n",
              "      <td>3.538616</td>\n",
              "      <td>1.794308</td>\n",
              "      <td>0.0</td>\n",
              "      <td>0.0</td>\n",
              "      <td>0.0</td>\n",
              "      <td>12</td>\n",
              "      <td>3.588616</td>\n",
              "      <td>3.589057</td>\n",
              "      <td>0.0</td>\n",
              "      <td>0.000441</td>\n",
              "      <td>8.0</td>\n",
              "      <td>5.215121e+02</td>\n",
              "      <td>0.000000e+00</td>\n",
              "      <td>0.0</td>\n",
              "      <td>0.0</td>\n",
              "      <td>7.0</td>\n",
              "      <td>0.0</td>\n",
              "      <td>8.0</td>\n",
              "      <td>0.0</td>\n",
              "      <td>0.0</td>\n",
              "      <td>0.0</td>\n",
              "      <td>0.0</td>\n",
              "      <td>0.00</td>\n",
              "      <td>4.428198e+02</td>\n",
              "      <td>65.189009</td>\n",
              "      <td>0.000000</td>\n",
              "      <td>0.000000e+00</td>\n",
              "      <td>0.000000</td>\n",
              "      <td>0.0</td>\n",
              "      <td>0.0</td>\n",
              "      <td>0.0</td>\n",
              "      <td>0.0</td>\n",
              "      <td>8.0</td>\n",
              "      <td>None</td>\n",
              "      <td>XENON</td>\n",
              "    </tr>\n",
              "    <tr>\n",
              "      <th>3</th>\n",
              "      <td>3</td>\n",
              "      <td>4</td>\n",
              "      <td>0x00038e6ba2fd5c09aedb96697c8d7b8fa6632e5e</td>\n",
              "      <td>0</td>\n",
              "      <td>10219.60</td>\n",
              "      <td>15785.09</td>\n",
              "      <td>397555.90</td>\n",
              "      <td>25</td>\n",
              "      <td>9</td>\n",
              "      <td>0</td>\n",
              "      <td>7</td>\n",
              "      <td>13</td>\n",
              "      <td>0.000000</td>\n",
              "      <td>500.000000</td>\n",
              "      <td>99.488840</td>\n",
              "      <td>0.000000</td>\n",
              "      <td>450.000000</td>\n",
              "      <td>70.001834</td>\n",
              "      <td>0.0</td>\n",
              "      <td>0.0</td>\n",
              "      <td>0.0</td>\n",
              "      <td>34</td>\n",
              "      <td>1750.045862</td>\n",
              "      <td>895.399559</td>\n",
              "      <td>0.0</td>\n",
              "      <td>-854.646303</td>\n",
              "      <td>14.0</td>\n",
              "      <td>1.711105e+04</td>\n",
              "      <td>1.141223e+04</td>\n",
              "      <td>0.0</td>\n",
              "      <td>2.0</td>\n",
              "      <td>11.0</td>\n",
              "      <td>0.0</td>\n",
              "      <td>11.0</td>\n",
              "      <td>0.0</td>\n",
              "      <td>0.0</td>\n",
              "      <td>0.0</td>\n",
              "      <td>0.0</td>\n",
              "      <td>0.00</td>\n",
              "      <td>1.141223e+04</td>\n",
              "      <td>1555.550174</td>\n",
              "      <td>100.000000</td>\n",
              "      <td>9.029231e+03</td>\n",
              "      <td>3804.076893</td>\n",
              "      <td>0.0</td>\n",
              "      <td>0.0</td>\n",
              "      <td>0.0</td>\n",
              "      <td>1.0</td>\n",
              "      <td>11.0</td>\n",
              "      <td>Raiden</td>\n",
              "      <td>XENON</td>\n",
              "    </tr>\n",
              "    <tr>\n",
              "      <th>4</th>\n",
              "      <td>4</td>\n",
              "      <td>5</td>\n",
              "      <td>0x00062d1dd1afb6fb02540ddad9cdebfe568e0d89</td>\n",
              "      <td>0</td>\n",
              "      <td>36.61</td>\n",
              "      <td>10707.77</td>\n",
              "      <td>382472.42</td>\n",
              "      <td>4598</td>\n",
              "      <td>20</td>\n",
              "      <td>1</td>\n",
              "      <td>7</td>\n",
              "      <td>19</td>\n",
              "      <td>0.000000</td>\n",
              "      <td>12.802411</td>\n",
              "      <td>2.671095</td>\n",
              "      <td>0.000000</td>\n",
              "      <td>9.000000</td>\n",
              "      <td>0.022688</td>\n",
              "      <td>0.0</td>\n",
              "      <td>0.0</td>\n",
              "      <td>0.0</td>\n",
              "      <td>4619</td>\n",
              "      <td>104.318883</td>\n",
              "      <td>53.421896</td>\n",
              "      <td>0.0</td>\n",
              "      <td>-50.896986</td>\n",
              "      <td>42.0</td>\n",
              "      <td>1.628297e+05</td>\n",
              "      <td>1.235399e+05</td>\n",
              "      <td>0.0</td>\n",
              "      <td>4.0</td>\n",
              "      <td>23.0</td>\n",
              "      <td>0.0</td>\n",
              "      <td>27.0</td>\n",
              "      <td>0.0</td>\n",
              "      <td>0.0</td>\n",
              "      <td>0.0</td>\n",
              "      <td>0.0</td>\n",
              "      <td>0.00</td>\n",
              "      <td>9.000000e+04</td>\n",
              "      <td>4934.232147</td>\n",
              "      <td>0.000000</td>\n",
              "      <td>4.500000e+04</td>\n",
              "      <td>13726.659220</td>\n",
              "      <td>0.0</td>\n",
              "      <td>0.0</td>\n",
              "      <td>0.0</td>\n",
              "      <td>6.0</td>\n",
              "      <td>27.0</td>\n",
              "      <td>StatusNetwork</td>\n",
              "      <td>EOS</td>\n",
              "    </tr>\n",
              "    <tr>\n",
              "      <th>...</th>\n",
              "      <td>...</td>\n",
              "      <td>...</td>\n",
              "      <td>...</td>\n",
              "      <td>...</td>\n",
              "      <td>...</td>\n",
              "      <td>...</td>\n",
              "      <td>...</td>\n",
              "      <td>...</td>\n",
              "      <td>...</td>\n",
              "      <td>...</td>\n",
              "      <td>...</td>\n",
              "      <td>...</td>\n",
              "      <td>...</td>\n",
              "      <td>...</td>\n",
              "      <td>...</td>\n",
              "      <td>...</td>\n",
              "      <td>...</td>\n",
              "      <td>...</td>\n",
              "      <td>...</td>\n",
              "      <td>...</td>\n",
              "      <td>...</td>\n",
              "      <td>...</td>\n",
              "      <td>...</td>\n",
              "      <td>...</td>\n",
              "      <td>...</td>\n",
              "      <td>...</td>\n",
              "      <td>...</td>\n",
              "      <td>...</td>\n",
              "      <td>...</td>\n",
              "      <td>...</td>\n",
              "      <td>...</td>\n",
              "      <td>...</td>\n",
              "      <td>...</td>\n",
              "      <td>...</td>\n",
              "      <td>...</td>\n",
              "      <td>...</td>\n",
              "      <td>...</td>\n",
              "      <td>...</td>\n",
              "      <td>...</td>\n",
              "      <td>...</td>\n",
              "      <td>...</td>\n",
              "      <td>...</td>\n",
              "      <td>...</td>\n",
              "      <td>...</td>\n",
              "      <td>...</td>\n",
              "      <td>...</td>\n",
              "      <td>...</td>\n",
              "      <td>...</td>\n",
              "      <td>...</td>\n",
              "      <td>...</td>\n",
              "      <td>...</td>\n",
              "    </tr>\n",
              "    <tr>\n",
              "      <th>9836</th>\n",
              "      <td>9836</td>\n",
              "      <td>2175</td>\n",
              "      <td>0xff481ca14e6c16b79fc8ab299b4d2387ec8ecdd2</td>\n",
              "      <td>1</td>\n",
              "      <td>12635.10</td>\n",
              "      <td>631.39</td>\n",
              "      <td>58748.48</td>\n",
              "      <td>4</td>\n",
              "      <td>13</td>\n",
              "      <td>0</td>\n",
              "      <td>11</td>\n",
              "      <td>4</td>\n",
              "      <td>0.004082</td>\n",
              "      <td>12.000000</td>\n",
              "      <td>2.821060</td>\n",
              "      <td>0.465461</td>\n",
              "      <td>12.200000</td>\n",
              "      <td>9.166365</td>\n",
              "      <td>0.0</td>\n",
              "      <td>0.0</td>\n",
              "      <td>0.0</td>\n",
              "      <td>17</td>\n",
              "      <td>36.665461</td>\n",
              "      <td>36.673777</td>\n",
              "      <td>0.0</td>\n",
              "      <td>0.008316</td>\n",
              "      <td>2.0</td>\n",
              "      <td>1.337000e+00</td>\n",
              "      <td>0.000000e+00</td>\n",
              "      <td>0.0</td>\n",
              "      <td>0.0</td>\n",
              "      <td>2.0</td>\n",
              "      <td>0.0</td>\n",
              "      <td>2.0</td>\n",
              "      <td>0.0</td>\n",
              "      <td>0.0</td>\n",
              "      <td>0.0</td>\n",
              "      <td>0.0</td>\n",
              "      <td>0.00</td>\n",
              "      <td>1.337000e+00</td>\n",
              "      <td>0.668500</td>\n",
              "      <td>0.000000</td>\n",
              "      <td>0.000000e+00</td>\n",
              "      <td>0.000000</td>\n",
              "      <td>0.0</td>\n",
              "      <td>0.0</td>\n",
              "      <td>0.0</td>\n",
              "      <td>0.0</td>\n",
              "      <td>2.0</td>\n",
              "      <td></td>\n",
              "      <td>GSENetwork</td>\n",
              "    </tr>\n",
              "    <tr>\n",
              "      <th>9837</th>\n",
              "      <td>9837</td>\n",
              "      <td>2176</td>\n",
              "      <td>0xff718805bb9199ebf024ab6acd333e603ad77c85</td>\n",
              "      <td>1</td>\n",
              "      <td>0.00</td>\n",
              "      <td>0.00</td>\n",
              "      <td>0.00</td>\n",
              "      <td>0</td>\n",
              "      <td>0</td>\n",
              "      <td>0</td>\n",
              "      <td>0</td>\n",
              "      <td>0</td>\n",
              "      <td>0.000000</td>\n",
              "      <td>0.000000</td>\n",
              "      <td>0.000000</td>\n",
              "      <td>0.000000</td>\n",
              "      <td>0.000000</td>\n",
              "      <td>0.000000</td>\n",
              "      <td>0.0</td>\n",
              "      <td>0.0</td>\n",
              "      <td>0.0</td>\n",
              "      <td>0</td>\n",
              "      <td>0.000000</td>\n",
              "      <td>0.000000</td>\n",
              "      <td>0.0</td>\n",
              "      <td>0.000000</td>\n",
              "      <td>1.0</td>\n",
              "      <td>1.337000e+01</td>\n",
              "      <td>0.000000e+00</td>\n",
              "      <td>0.0</td>\n",
              "      <td>0.0</td>\n",
              "      <td>1.0</td>\n",
              "      <td>0.0</td>\n",
              "      <td>1.0</td>\n",
              "      <td>0.0</td>\n",
              "      <td>0.0</td>\n",
              "      <td>0.0</td>\n",
              "      <td>0.0</td>\n",
              "      <td>13.37</td>\n",
              "      <td>1.337000e+01</td>\n",
              "      <td>13.370000</td>\n",
              "      <td>0.000000</td>\n",
              "      <td>0.000000e+00</td>\n",
              "      <td>0.000000</td>\n",
              "      <td>0.0</td>\n",
              "      <td>0.0</td>\n",
              "      <td>0.0</td>\n",
              "      <td>0.0</td>\n",
              "      <td>1.0</td>\n",
              "      <td></td>\n",
              "      <td>Blockwell say NOTSAFU</td>\n",
              "    </tr>\n",
              "    <tr>\n",
              "      <th>9838</th>\n",
              "      <td>9838</td>\n",
              "      <td>2177</td>\n",
              "      <td>0xff8e6af02d41a576a0c82f7835535193e1a6bccc</td>\n",
              "      <td>1</td>\n",
              "      <td>2499.44</td>\n",
              "      <td>2189.29</td>\n",
              "      <td>261601.88</td>\n",
              "      <td>67</td>\n",
              "      <td>43</td>\n",
              "      <td>0</td>\n",
              "      <td>31</td>\n",
              "      <td>44</td>\n",
              "      <td>0.001078</td>\n",
              "      <td>21.310000</td>\n",
              "      <td>1.234192</td>\n",
              "      <td>0.004000</td>\n",
              "      <td>9.500000</td>\n",
              "      <td>0.922179</td>\n",
              "      <td>0.0</td>\n",
              "      <td>0.0</td>\n",
              "      <td>0.0</td>\n",
              "      <td>110</td>\n",
              "      <td>61.785995</td>\n",
              "      <td>53.070252</td>\n",
              "      <td>0.0</td>\n",
              "      <td>-8.715743</td>\n",
              "      <td>5.0</td>\n",
              "      <td>1.503470e+03</td>\n",
              "      <td>0.000000e+00</td>\n",
              "      <td>0.0</td>\n",
              "      <td>0.0</td>\n",
              "      <td>5.0</td>\n",
              "      <td>0.0</td>\n",
              "      <td>5.0</td>\n",
              "      <td>0.0</td>\n",
              "      <td>0.0</td>\n",
              "      <td>0.0</td>\n",
              "      <td>0.0</td>\n",
              "      <td>0.00</td>\n",
              "      <td>1.500000e+03</td>\n",
              "      <td>300.693901</td>\n",
              "      <td>0.000000</td>\n",
              "      <td>0.000000e+00</td>\n",
              "      <td>0.000000</td>\n",
              "      <td>0.0</td>\n",
              "      <td>0.0</td>\n",
              "      <td>0.0</td>\n",
              "      <td>0.0</td>\n",
              "      <td>5.0</td>\n",
              "      <td></td>\n",
              "      <td>Free BOB Tokens - BobsRepair.com</td>\n",
              "    </tr>\n",
              "    <tr>\n",
              "      <th>9839</th>\n",
              "      <td>9839</td>\n",
              "      <td>2178</td>\n",
              "      <td>0xffde23396d57e10abf58bd929bb1e856c7718218</td>\n",
              "      <td>1</td>\n",
              "      <td>0.00</td>\n",
              "      <td>0.00</td>\n",
              "      <td>0.00</td>\n",
              "      <td>0</td>\n",
              "      <td>1</td>\n",
              "      <td>0</td>\n",
              "      <td>1</td>\n",
              "      <td>0</td>\n",
              "      <td>0.500000</td>\n",
              "      <td>0.500000</td>\n",
              "      <td>0.500000</td>\n",
              "      <td>0.000000</td>\n",
              "      <td>0.000000</td>\n",
              "      <td>0.000000</td>\n",
              "      <td>0.0</td>\n",
              "      <td>0.0</td>\n",
              "      <td>0.0</td>\n",
              "      <td>1</td>\n",
              "      <td>0.000000</td>\n",
              "      <td>0.500000</td>\n",
              "      <td>0.0</td>\n",
              "      <td>0.500000</td>\n",
              "      <td>NaN</td>\n",
              "      <td>NaN</td>\n",
              "      <td>NaN</td>\n",
              "      <td>NaN</td>\n",
              "      <td>NaN</td>\n",
              "      <td>NaN</td>\n",
              "      <td>NaN</td>\n",
              "      <td>NaN</td>\n",
              "      <td>NaN</td>\n",
              "      <td>NaN</td>\n",
              "      <td>NaN</td>\n",
              "      <td>NaN</td>\n",
              "      <td>NaN</td>\n",
              "      <td>NaN</td>\n",
              "      <td>NaN</td>\n",
              "      <td>NaN</td>\n",
              "      <td>NaN</td>\n",
              "      <td>NaN</td>\n",
              "      <td>NaN</td>\n",
              "      <td>NaN</td>\n",
              "      <td>NaN</td>\n",
              "      <td>NaN</td>\n",
              "      <td>NaN</td>\n",
              "      <td>NaN</td>\n",
              "      <td>NaN</td>\n",
              "    </tr>\n",
              "    <tr>\n",
              "      <th>9840</th>\n",
              "      <td>9840</td>\n",
              "      <td>2179</td>\n",
              "      <td>0xd624d046edbdef805c5e4140dce5fb5ec1b39a3c</td>\n",
              "      <td>1</td>\n",
              "      <td>37242.70</td>\n",
              "      <td>149.56</td>\n",
              "      <td>670817.33</td>\n",
              "      <td>18</td>\n",
              "      <td>3</td>\n",
              "      <td>0</td>\n",
              "      <td>1</td>\n",
              "      <td>5</td>\n",
              "      <td>0.795233</td>\n",
              "      <td>18998.000000</td>\n",
              "      <td>6333.265078</td>\n",
              "      <td>0.900000</td>\n",
              "      <td>1000.000000</td>\n",
              "      <td>644.427778</td>\n",
              "      <td>0.0</td>\n",
              "      <td>0.0</td>\n",
              "      <td>0.0</td>\n",
              "      <td>21</td>\n",
              "      <td>11599.700000</td>\n",
              "      <td>18999.795230</td>\n",
              "      <td>0.0</td>\n",
              "      <td>7400.095233</td>\n",
              "      <td>44.0</td>\n",
              "      <td>6.007075e+04</td>\n",
              "      <td>0.000000e+00</td>\n",
              "      <td>0.0</td>\n",
              "      <td>0.0</td>\n",
              "      <td>37.0</td>\n",
              "      <td>0.0</td>\n",
              "      <td>42.0</td>\n",
              "      <td>0.0</td>\n",
              "      <td>0.0</td>\n",
              "      <td>0.0</td>\n",
              "      <td>0.0</td>\n",
              "      <td>0.00</td>\n",
              "      <td>2.018061e+04</td>\n",
              "      <td>1365.244359</td>\n",
              "      <td>0.000000</td>\n",
              "      <td>0.000000e+00</td>\n",
              "      <td>0.000000</td>\n",
              "      <td>0.0</td>\n",
              "      <td>0.0</td>\n",
              "      <td>0.0</td>\n",
              "      <td>0.0</td>\n",
              "      <td>42.0</td>\n",
              "      <td></td>\n",
              "      <td>INS Promo1</td>\n",
              "    </tr>\n",
              "  </tbody>\n",
              "</table>\n",
              "<p>9841 rows × 51 columns</p>\n",
              "</div>"
            ],
            "text/plain": [
              "      Unnamed: 0  ...         ERC20_most_rec_token_type\n",
              "0              0  ...                         Numeraire\n",
              "1              1  ...                    Livepeer Token\n",
              "2              2  ...                             XENON\n",
              "3              3  ...                             XENON\n",
              "4              4  ...                               EOS\n",
              "...          ...  ...                               ...\n",
              "9836        9836  ...                        GSENetwork\n",
              "9837        9837  ...             Blockwell say NOTSAFU\n",
              "9838        9838  ...  Free BOB Tokens - BobsRepair.com\n",
              "9839        9839  ...                               NaN\n",
              "9840        9840  ...                        INS Promo1\n",
              "\n",
              "[9841 rows x 51 columns]"
            ]
          },
          "metadata": {},
          "execution_count": 15
        }
      ]
    },
    {
      "cell_type": "markdown",
      "metadata": {
        "id": "hxmSw9w48ySO"
      },
      "source": [
        "La columna Index no aporta información relevante para la detección de fraudes ya que simplemente es una columna para ordenar las transacciones. Para el entrenamiento del programa dicha columna se puede eliminar."
      ]
    },
    {
      "cell_type": "code",
      "metadata": {
        "id": "toZR-n6j9EN3"
      },
      "source": [
        "#Se eliminan las columnas Unnamed e Index\n",
        "data.drop(columns=['Index'], inplace=True)"
      ],
      "execution_count": 23,
      "outputs": []
    },
    {
      "cell_type": "markdown",
      "metadata": {
        "id": "G-wHt5zYyIVH"
      },
      "source": [
        "**Análisis de las variables categóricas**"
      ]
    },
    {
      "cell_type": "code",
      "metadata": {
        "colab": {
          "base_uri": "https://localhost:8080/",
          "height": 143
        },
        "id": "0BYEEBuhyTYH",
        "outputId": "60790c6d-284d-49be-e18e-40b69228c2f0"
      },
      "source": [
        "#Se imprimen las columnas con variables categóricas\n",
        "data.describe(include='object').T"
      ],
      "execution_count": 4,
      "outputs": [
        {
          "output_type": "execute_result",
          "data": {
            "text/html": [
              "<div>\n",
              "<style scoped>\n",
              "    .dataframe tbody tr th:only-of-type {\n",
              "        vertical-align: middle;\n",
              "    }\n",
              "\n",
              "    .dataframe tbody tr th {\n",
              "        vertical-align: top;\n",
              "    }\n",
              "\n",
              "    .dataframe thead th {\n",
              "        text-align: right;\n",
              "    }\n",
              "</style>\n",
              "<table border=\"1\" class=\"dataframe\">\n",
              "  <thead>\n",
              "    <tr style=\"text-align: right;\">\n",
              "      <th></th>\n",
              "      <th>count</th>\n",
              "      <th>unique</th>\n",
              "      <th>top</th>\n",
              "      <th>freq</th>\n",
              "    </tr>\n",
              "  </thead>\n",
              "  <tbody>\n",
              "    <tr>\n",
              "      <th>Address</th>\n",
              "      <td>3468</td>\n",
              "      <td>3443</td>\n",
              "      <td>0x4cc930a91865e30feff38465ace57711e3923881</td>\n",
              "      <td>2</td>\n",
              "    </tr>\n",
              "    <tr>\n",
              "      <th>ERC20 most sent token type</th>\n",
              "      <td>3460</td>\n",
              "      <td>159</td>\n",
              "      <td>0</td>\n",
              "      <td>1985</td>\n",
              "    </tr>\n",
              "    <tr>\n",
              "      <th>ERC20_most_rec_token_type</th>\n",
              "      <td>3457</td>\n",
              "      <td>238</td>\n",
              "      <td>0</td>\n",
              "      <td>1985</td>\n",
              "    </tr>\n",
              "  </tbody>\n",
              "</table>\n",
              "</div>"
            ],
            "text/plain": [
              "                            count  ...  freq\n",
              "Address                      3468  ...     2\n",
              " ERC20 most sent token type  3460  ...  1985\n",
              " ERC20_most_rec_token_type   3457  ...  1985\n",
              "\n",
              "[3 rows x 4 columns]"
            ]
          },
          "metadata": {},
          "execution_count": 4
        }
      ]
    },
    {
      "cell_type": "code",
      "metadata": {
        "colab": {
          "base_uri": "https://localhost:8080/"
        },
        "id": "I_5h0oMMynzP",
        "outputId": "5f2522f5-0bb0-46d2-e99b-756ef6e6f0c1"
      },
      "source": [
        "#Se ve qué tipo de datos hay en cada una de las columnas anteriores y cuál es la frecuencia con la que se repiten\n",
        "for column in data.select_dtypes(include='object').columns:\n",
        "    print(data[column].value_counts())\n",
        "    print('-'*20)"
      ],
      "execution_count": 5,
      "outputs": [
        {
          "output_type": "stream",
          "name": "stdout",
          "text": [
            "0x4cc930a91865e30feff38465ace57711e3923881    2\n",
            "0x4cce03d1fd8aa1d6172cec74d75bd1df9e6a8ac2    2\n",
            "0x4c391cc032c9107b596267610a05262c90fc2df7    2\n",
            "0x4c7f6d5b287054bf41f9d49ea8d2ca6e6837850b    2\n",
            "0x4c268c7b1d51b369153d6f1f28c61b15f0e17746    2\n",
            "                                             ..\n",
            "0x1a13f517b8299bf79c29740984836887869dee79    1\n",
            "0x20ccea5b26e2b5134dc6f2b45bb3ffd2a519e99f    1\n",
            "0x33ce09eec053e1a4bf847046135a94a4ec5f7260    1\n",
            "0x254a716fda04213e3350bc9bcaf41c87062484be    1\n",
            "0x246d33cb3c6f9ac6ba33920d572c10257cc3406d    1\n",
            "Name: Address, Length: 3443, dtype: int64\n",
            "--------------------\n",
            "0                            1985\n",
            "None                          843\n",
            "OmiseGO                        67\n",
            "EOS                            64\n",
            "Golem                          56\n",
            "                             ... \n",
            "Guaranteed Entrance Token       1\n",
            "Celsius                         1\n",
            "SingularityNET                  1\n",
            "district0x                      1\n",
            "BlockchainPoland                1\n",
            "Name:  ERC20 most sent token type, Length: 159, dtype: int64\n",
            "--------------------\n",
            "0                   1985\n",
            "DATAcoin             270\n",
            "OmiseGO              265\n",
            "XENON                110\n",
            "EOS                   66\n",
            "                    ... \n",
            "YouDeal Token          1\n",
            "Live Stars Token       1\n",
            "Carrots                1\n",
            "CYRUS                  1\n",
            "Merculet               1\n",
            "Name:  ERC20_most_rec_token_type, Length: 238, dtype: int64\n",
            "--------------------\n"
          ]
        }
      ]
    },
    {
      "cell_type": "markdown",
      "metadata": {
        "id": "UGlC0vvJyyXK"
      },
      "source": [
        "Como se puede observar, la mayoría de datos de la columna Address son únicos, menos algunos que se repiten como mucho dos veces. Por ello se va a realizar un análisis de los datos no únicos de dicha columna para observar si es un campo relevante para la detección de fraudes. "
      ]
    },
    {
      "cell_type": "code",
      "metadata": {
        "colab": {
          "base_uri": "https://localhost:8080/"
        },
        "id": "zYds6Lqyzd0i",
        "outputId": "ae12d3d3-3a2d-4de5-ac4e-28c1d8b7520e"
      },
      "source": [
        "# ¿Cuantas direcicones no son únicas?\n",
        "_, uniq_idx, counts = np.unique(data['Address'].to_numpy(), return_index=True, return_counts=True)\n",
        "non_unique_addresses_idx = uniq_idx[counts > 1]\n",
        "print(\"non-unique adresses count: {}\".format(len(non_unique_addresses_idx), end='\\n\\n'))\n",
        "\n",
        "# ¿Cuál es el flag de esas direcicones?\n",
        "non_unique_addresses_flags = data.iloc[non_unique_addresses_idx]['FLAG']\n",
        "print(\"flags of non-unique adresses: \", end='')\n",
        "print(*non_unique_addresses_flags)"
      ],
      "execution_count": 6,
      "outputs": [
        {
          "output_type": "stream",
          "name": "stdout",
          "text": [
            "non-unique adresses count: 25\n",
            "flags of non-unique adresses: 0.0 0.0 0.0 0.0 0.0 0.0 0.0 0.0 0.0 0.0 0.0 0.0 0.0 0.0 0.0 0.0 0.0 0.0 0.0 0.0 0.0 0.0 0.0 0.0 0.0\n"
          ]
        }
      ]
    },
    {
      "cell_type": "markdown",
      "metadata": {
        "id": "vZgWAZ5ZzoWg"
      },
      "source": [
        "Como se puede observar en la salida del código anterior, solo hay 25 datos no únicos en la columna Address. Además, todos los datos repetidos pertenecen a transacciones no fraudulentas con lo que este campo no aporta información relevante y se puede eliminar. \n",
        "\n",
        "Las otras dos columnas con datos categóricos sólo muestran el tipo de criptomonedas enviadas/recibidas, lo cual tampoco aporta información relevante para la detección de fraudes."
      ]
    },
    {
      "cell_type": "code",
      "metadata": {
        "id": "AZcT3OIO0UBo"
      },
      "source": [
        "#Se eliminan las columnas con información irrelevante\n",
        "data.drop(columns=['Address', ' ERC20 most sent token type', ' ERC20_most_rec_token_type'], inplace=True)"
      ],
      "execution_count": 16,
      "outputs": []
    },
    {
      "cell_type": "markdown",
      "metadata": {
        "id": "GNbFv-fs0fW6"
      },
      "source": [
        "**Análisis de columnas numéricas**"
      ]
    },
    {
      "cell_type": "markdown",
      "metadata": {
        "id": "MULo2n1d078h"
      },
      "source": [
        "Lo primero que se realiza es una descripción de los datos numéricos de cada columna, mostrando el número total de datos por columna, la media, la mediana, el máximo, el mínimo y los cuartiles. "
      ]
    },
    {
      "cell_type": "code",
      "metadata": {
        "colab": {
          "base_uri": "https://localhost:8080/",
          "height": 1000
        },
        "id": "X1IMWHux0gfe",
        "outputId": "1ba25701-77e6-4fbb-ef0b-f5437972487b"
      },
      "source": [
        "# De las variables numéricas hallar datos estadísticos: máximo, mínimo, media, mediana y cuartiles\n",
        "stats_df = data.describe()\n",
        "# Obtener y añadir la mediana\n",
        "median = pd.DataFrame(data.median())\n",
        "median = median.transpose()\n",
        "median.rename(index = {0:'median'},inplace = True)\n",
        "stats_df = stats_df.append(median).transpose() # Hay q igualarlo porq append() devuelve nuevo df\n",
        "stats_df"
      ],
      "execution_count": 8,
      "outputs": [
        {
          "output_type": "execute_result",
          "data": {
            "text/html": [
              "<div>\n",
              "<style scoped>\n",
              "    .dataframe tbody tr th:only-of-type {\n",
              "        vertical-align: middle;\n",
              "    }\n",
              "\n",
              "    .dataframe tbody tr th {\n",
              "        vertical-align: top;\n",
              "    }\n",
              "\n",
              "    .dataframe thead th {\n",
              "        text-align: right;\n",
              "    }\n",
              "</style>\n",
              "<table border=\"1\" class=\"dataframe\">\n",
              "  <thead>\n",
              "    <tr style=\"text-align: right;\">\n",
              "      <th></th>\n",
              "      <th>count</th>\n",
              "      <th>mean</th>\n",
              "      <th>std</th>\n",
              "      <th>min</th>\n",
              "      <th>25%</th>\n",
              "      <th>50%</th>\n",
              "      <th>75%</th>\n",
              "      <th>max</th>\n",
              "      <th>median</th>\n",
              "    </tr>\n",
              "  </thead>\n",
              "  <tbody>\n",
              "    <tr>\n",
              "      <th>Unnamed: 0</th>\n",
              "      <td>3468.0</td>\n",
              "      <td>1.733500e+03</td>\n",
              "      <td>1.001270e+03</td>\n",
              "      <td>0.00</td>\n",
              "      <td>866.750000</td>\n",
              "      <td>1733.500000</td>\n",
              "      <td>2600.250000</td>\n",
              "      <td>3.467000e+03</td>\n",
              "      <td>1733.500000</td>\n",
              "    </tr>\n",
              "    <tr>\n",
              "      <th>Index</th>\n",
              "      <td>3468.0</td>\n",
              "      <td>1.282033e+03</td>\n",
              "      <td>8.931717e+02</td>\n",
              "      <td>1.00</td>\n",
              "      <td>434.000000</td>\n",
              "      <td>1199.500000</td>\n",
              "      <td>2066.250000</td>\n",
              "      <td>2.933000e+03</td>\n",
              "      <td>1199.500000</td>\n",
              "    </tr>\n",
              "    <tr>\n",
              "      <th>FLAG</th>\n",
              "      <td>3467.0</td>\n",
              "      <td>0.000000e+00</td>\n",
              "      <td>0.000000e+00</td>\n",
              "      <td>0.00</td>\n",
              "      <td>0.000000</td>\n",
              "      <td>0.000000</td>\n",
              "      <td>0.000000</td>\n",
              "      <td>0.000000e+00</td>\n",
              "      <td>0.000000</td>\n",
              "    </tr>\n",
              "    <tr>\n",
              "      <th>Avg min between sent tnx</th>\n",
              "      <td>3467.0</td>\n",
              "      <td>5.556958e+03</td>\n",
              "      <td>2.331401e+04</td>\n",
              "      <td>0.00</td>\n",
              "      <td>0.000000</td>\n",
              "      <td>22.790000</td>\n",
              "      <td>792.605000</td>\n",
              "      <td>4.302877e+05</td>\n",
              "      <td>22.790000</td>\n",
              "    </tr>\n",
              "    <tr>\n",
              "      <th>Avg min between received tnx</th>\n",
              "      <td>3467.0</td>\n",
              "      <td>9.678659e+03</td>\n",
              "      <td>2.635889e+04</td>\n",
              "      <td>0.00</td>\n",
              "      <td>0.000000</td>\n",
              "      <td>1306.920000</td>\n",
              "      <td>7134.605000</td>\n",
              "      <td>4.821755e+05</td>\n",
              "      <td>1306.920000</td>\n",
              "    </tr>\n",
              "    <tr>\n",
              "      <th>Time Diff between first and last (Mins)</th>\n",
              "      <td>3467.0</td>\n",
              "      <td>2.588350e+05</td>\n",
              "      <td>3.472699e+05</td>\n",
              "      <td>0.00</td>\n",
              "      <td>318.100000</td>\n",
              "      <td>105904.980000</td>\n",
              "      <td>372504.910000</td>\n",
              "      <td>1.954861e+06</td>\n",
              "      <td>105904.980000</td>\n",
              "    </tr>\n",
              "    <tr>\n",
              "      <th>Sent tnx</th>\n",
              "      <td>3467.0</td>\n",
              "      <td>1.564275e+02</td>\n",
              "      <td>9.068199e+02</td>\n",
              "      <td>0.00</td>\n",
              "      <td>1.000000</td>\n",
              "      <td>3.000000</td>\n",
              "      <td>15.000000</td>\n",
              "      <td>1.000000e+04</td>\n",
              "      <td>3.000000</td>\n",
              "    </tr>\n",
              "    <tr>\n",
              "      <th>Received Tnx</th>\n",
              "      <td>3467.0</td>\n",
              "      <td>1.859414e+02</td>\n",
              "      <td>9.751143e+02</td>\n",
              "      <td>0.00</td>\n",
              "      <td>2.000000</td>\n",
              "      <td>5.000000</td>\n",
              "      <td>36.000000</td>\n",
              "      <td>1.000000e+04</td>\n",
              "      <td>5.000000</td>\n",
              "    </tr>\n",
              "    <tr>\n",
              "      <th>Number of Created Contracts</th>\n",
              "      <td>3467.0</td>\n",
              "      <td>5.069224e+00</td>\n",
              "      <td>1.458393e+02</td>\n",
              "      <td>0.00</td>\n",
              "      <td>0.000000</td>\n",
              "      <td>0.000000</td>\n",
              "      <td>0.000000</td>\n",
              "      <td>6.453000e+03</td>\n",
              "      <td>0.000000</td>\n",
              "    </tr>\n",
              "    <tr>\n",
              "      <th>Unique Received From Addresses</th>\n",
              "      <td>3467.0</td>\n",
              "      <td>3.055495e+01</td>\n",
              "      <td>3.147894e+02</td>\n",
              "      <td>0.00</td>\n",
              "      <td>1.000000</td>\n",
              "      <td>2.000000</td>\n",
              "      <td>5.000000</td>\n",
              "      <td>9.999000e+03</td>\n",
              "      <td>2.000000</td>\n",
              "    </tr>\n",
              "    <tr>\n",
              "      <th>Unique Sent To Addresses</th>\n",
              "      <td>3467.0</td>\n",
              "      <td>3.290482e+01</td>\n",
              "      <td>2.914479e+02</td>\n",
              "      <td>0.00</td>\n",
              "      <td>1.000000</td>\n",
              "      <td>2.000000</td>\n",
              "      <td>3.000000</td>\n",
              "      <td>6.564000e+03</td>\n",
              "      <td>2.000000</td>\n",
              "    </tr>\n",
              "    <tr>\n",
              "      <th>min value received</th>\n",
              "      <td>3467.0</td>\n",
              "      <td>5.142748e+01</td>\n",
              "      <td>2.645642e+02</td>\n",
              "      <td>0.00</td>\n",
              "      <td>0.007000</td>\n",
              "      <td>0.197853</td>\n",
              "      <td>10.000000</td>\n",
              "      <td>1.000000e+04</td>\n",
              "      <td>0.197853</td>\n",
              "    </tr>\n",
              "    <tr>\n",
              "      <th>max value received</th>\n",
              "      <td>3467.0</td>\n",
              "      <td>6.152088e+02</td>\n",
              "      <td>1.537857e+04</td>\n",
              "      <td>0.00</td>\n",
              "      <td>1.478482</td>\n",
              "      <td>13.043238</td>\n",
              "      <td>97.337759</td>\n",
              "      <td>8.000000e+05</td>\n",
              "      <td>13.043238</td>\n",
              "    </tr>\n",
              "    <tr>\n",
              "      <th>avg val received</th>\n",
              "      <td>3467.0</td>\n",
              "      <td>1.675798e+02</td>\n",
              "      <td>4.829472e+03</td>\n",
              "      <td>0.00</td>\n",
              "      <td>0.769395</td>\n",
              "      <td>3.972853</td>\n",
              "      <td>50.500000</td>\n",
              "      <td>2.836188e+05</td>\n",
              "      <td>3.972853</td>\n",
              "    </tr>\n",
              "    <tr>\n",
              "      <th>min val sent</th>\n",
              "      <td>3467.0</td>\n",
              "      <td>5.714457e+00</td>\n",
              "      <td>2.042023e+02</td>\n",
              "      <td>0.00</td>\n",
              "      <td>0.000000</td>\n",
              "      <td>0.062387</td>\n",
              "      <td>0.994581</td>\n",
              "      <td>1.200000e+04</td>\n",
              "      <td>0.062387</td>\n",
              "    </tr>\n",
              "    <tr>\n",
              "      <th>max val sent</th>\n",
              "      <td>3467.0</td>\n",
              "      <td>5.835155e+02</td>\n",
              "      <td>1.100427e+04</td>\n",
              "      <td>0.00</td>\n",
              "      <td>0.629648</td>\n",
              "      <td>10.092219</td>\n",
              "      <td>89.132345</td>\n",
              "      <td>5.200000e+05</td>\n",
              "      <td>10.092219</td>\n",
              "    </tr>\n",
              "    <tr>\n",
              "      <th>avg val sent</th>\n",
              "      <td>3467.0</td>\n",
              "      <td>5.607894e+01</td>\n",
              "      <td>2.647770e+02</td>\n",
              "      <td>0.00</td>\n",
              "      <td>0.229268</td>\n",
              "      <td>2.775678</td>\n",
              "      <td>33.666149</td>\n",
              "      <td>1.200000e+04</td>\n",
              "      <td>2.775678</td>\n",
              "    </tr>\n",
              "    <tr>\n",
              "      <th>min value sent to contract</th>\n",
              "      <td>3467.0</td>\n",
              "      <td>5.768676e-06</td>\n",
              "      <td>3.396668e-04</td>\n",
              "      <td>0.00</td>\n",
              "      <td>0.000000</td>\n",
              "      <td>0.000000</td>\n",
              "      <td>0.000000</td>\n",
              "      <td>2.000000e-02</td>\n",
              "      <td>0.000000</td>\n",
              "    </tr>\n",
              "    <tr>\n",
              "      <th>max val sent to contract</th>\n",
              "      <td>3467.0</td>\n",
              "      <td>5.768676e-06</td>\n",
              "      <td>3.396668e-04</td>\n",
              "      <td>0.00</td>\n",
              "      <td>0.000000</td>\n",
              "      <td>0.000000</td>\n",
              "      <td>0.000000</td>\n",
              "      <td>2.000000e-02</td>\n",
              "      <td>0.000000</td>\n",
              "    </tr>\n",
              "    <tr>\n",
              "      <th>avg value sent to contract</th>\n",
              "      <td>3467.0</td>\n",
              "      <td>5.768676e-06</td>\n",
              "      <td>3.396668e-04</td>\n",
              "      <td>0.00</td>\n",
              "      <td>0.000000</td>\n",
              "      <td>0.000000</td>\n",
              "      <td>0.000000</td>\n",
              "      <td>2.000000e-02</td>\n",
              "      <td>0.000000</td>\n",
              "    </tr>\n",
              "    <tr>\n",
              "      <th>total transactions (including tnx to create contract</th>\n",
              "      <td>3467.0</td>\n",
              "      <td>3.474381e+02</td>\n",
              "      <td>1.516581e+03</td>\n",
              "      <td>1.00</td>\n",
              "      <td>4.000000</td>\n",
              "      <td>10.000000</td>\n",
              "      <td>80.000000</td>\n",
              "      <td>1.673600e+04</td>\n",
              "      <td>10.000000</td>\n",
              "    </tr>\n",
              "    <tr>\n",
              "      <th>total Ether sent</th>\n",
              "      <td>3467.0</td>\n",
              "      <td>2.039181e+04</td>\n",
              "      <td>5.720307e+05</td>\n",
              "      <td>0.00</td>\n",
              "      <td>1.011920</td>\n",
              "      <td>36.996054</td>\n",
              "      <td>100.999016</td>\n",
              "      <td>2.858096e+07</td>\n",
              "      <td>36.996054</td>\n",
              "    </tr>\n",
              "    <tr>\n",
              "      <th>total ether received</th>\n",
              "      <td>3467.0</td>\n",
              "      <td>1.481854e+04</td>\n",
              "      <td>4.998370e+05</td>\n",
              "      <td>0.00</td>\n",
              "      <td>8.374576</td>\n",
              "      <td>78.168400</td>\n",
              "      <td>127.207187</td>\n",
              "      <td>2.858159e+07</td>\n",
              "      <td>78.168400</td>\n",
              "    </tr>\n",
              "    <tr>\n",
              "      <th>total ether sent contracts</th>\n",
              "      <td>3467.0</td>\n",
              "      <td>5.768676e-06</td>\n",
              "      <td>3.396668e-04</td>\n",
              "      <td>0.00</td>\n",
              "      <td>0.000000</td>\n",
              "      <td>0.000000</td>\n",
              "      <td>0.000000</td>\n",
              "      <td>2.000000e-02</td>\n",
              "      <td>0.000000</td>\n",
              "    </tr>\n",
              "    <tr>\n",
              "      <th>total ether balance</th>\n",
              "      <td>3467.0</td>\n",
              "      <td>-5.573270e+03</td>\n",
              "      <td>2.755665e+05</td>\n",
              "      <td>-15605352.04</td>\n",
              "      <td>0.000984</td>\n",
              "      <td>0.002058</td>\n",
              "      <td>0.093410</td>\n",
              "      <td>1.594944e+06</td>\n",
              "      <td>0.002058</td>\n",
              "    </tr>\n",
              "    <tr>\n",
              "      <th>Total ERC20 tnxs</th>\n",
              "      <td>3467.0</td>\n",
              "      <td>3.968128e+01</td>\n",
              "      <td>4.835468e+02</td>\n",
              "      <td>0.00</td>\n",
              "      <td>0.000000</td>\n",
              "      <td>0.000000</td>\n",
              "      <td>3.000000</td>\n",
              "      <td>1.000000e+04</td>\n",
              "      <td>0.000000</td>\n",
              "    </tr>\n",
              "    <tr>\n",
              "      <th>ERC20 total Ether received</th>\n",
              "      <td>3467.0</td>\n",
              "      <td>1.887318e+07</td>\n",
              "      <td>2.303455e+08</td>\n",
              "      <td>0.00</td>\n",
              "      <td>0.000000</td>\n",
              "      <td>0.000000</td>\n",
              "      <td>100.000000</td>\n",
              "      <td>6.000021e+09</td>\n",
              "      <td>0.000000</td>\n",
              "    </tr>\n",
              "    <tr>\n",
              "      <th>ERC20 total ether sent</th>\n",
              "      <td>3467.0</td>\n",
              "      <td>9.015650e+05</td>\n",
              "      <td>1.889594e+07</td>\n",
              "      <td>0.00</td>\n",
              "      <td>0.000000</td>\n",
              "      <td>0.000000</td>\n",
              "      <td>0.000000</td>\n",
              "      <td>1.000010e+09</td>\n",
              "      <td>0.000000</td>\n",
              "    </tr>\n",
              "    <tr>\n",
              "      <th>ERC20 total Ether sent contract</th>\n",
              "      <td>3467.0</td>\n",
              "      <td>6.189796e+01</td>\n",
              "      <td>3.640677e+03</td>\n",
              "      <td>0.00</td>\n",
              "      <td>0.000000</td>\n",
              "      <td>0.000000</td>\n",
              "      <td>0.000000</td>\n",
              "      <td>2.143675e+05</td>\n",
              "      <td>0.000000</td>\n",
              "    </tr>\n",
              "    <tr>\n",
              "      <th>ERC20 uniq sent addr</th>\n",
              "      <td>3467.0</td>\n",
              "      <td>7.178541e+00</td>\n",
              "      <td>1.404267e+02</td>\n",
              "      <td>0.00</td>\n",
              "      <td>0.000000</td>\n",
              "      <td>0.000000</td>\n",
              "      <td>0.000000</td>\n",
              "      <td>6.582000e+03</td>\n",
              "      <td>0.000000</td>\n",
              "    </tr>\n",
              "    <tr>\n",
              "      <th>ERC20 uniq rec addr</th>\n",
              "      <td>3467.0</td>\n",
              "      <td>8.117969e+00</td>\n",
              "      <td>9.263511e+01</td>\n",
              "      <td>0.00</td>\n",
              "      <td>0.000000</td>\n",
              "      <td>0.000000</td>\n",
              "      <td>2.000000</td>\n",
              "      <td>4.293000e+03</td>\n",
              "      <td>0.000000</td>\n",
              "    </tr>\n",
              "    <tr>\n",
              "      <th>ERC20 uniq sent addr.1</th>\n",
              "      <td>3467.0</td>\n",
              "      <td>3.172772e-03</td>\n",
              "      <td>6.996228e-02</td>\n",
              "      <td>0.00</td>\n",
              "      <td>0.000000</td>\n",
              "      <td>0.000000</td>\n",
              "      <td>0.000000</td>\n",
              "      <td>3.000000e+00</td>\n",
              "      <td>0.000000</td>\n",
              "    </tr>\n",
              "    <tr>\n",
              "      <th>ERC20 uniq rec contract addr</th>\n",
              "      <td>3467.0</td>\n",
              "      <td>4.860110e+00</td>\n",
              "      <td>1.639310e+01</td>\n",
              "      <td>0.00</td>\n",
              "      <td>0.000000</td>\n",
              "      <td>0.000000</td>\n",
              "      <td>2.000000</td>\n",
              "      <td>4.560000e+02</td>\n",
              "      <td>0.000000</td>\n",
              "    </tr>\n",
              "    <tr>\n",
              "      <th>ERC20 avg time between sent tnx</th>\n",
              "      <td>3467.0</td>\n",
              "      <td>0.000000e+00</td>\n",
              "      <td>0.000000e+00</td>\n",
              "      <td>0.00</td>\n",
              "      <td>0.000000</td>\n",
              "      <td>0.000000</td>\n",
              "      <td>0.000000</td>\n",
              "      <td>0.000000e+00</td>\n",
              "      <td>0.000000</td>\n",
              "    </tr>\n",
              "    <tr>\n",
              "      <th>ERC20 avg time between rec tnx</th>\n",
              "      <td>3467.0</td>\n",
              "      <td>0.000000e+00</td>\n",
              "      <td>0.000000e+00</td>\n",
              "      <td>0.00</td>\n",
              "      <td>0.000000</td>\n",
              "      <td>0.000000</td>\n",
              "      <td>0.000000</td>\n",
              "      <td>0.000000e+00</td>\n",
              "      <td>0.000000</td>\n",
              "    </tr>\n",
              "    <tr>\n",
              "      <th>ERC20 avg time between rec 2 tnx</th>\n",
              "      <td>3467.0</td>\n",
              "      <td>0.000000e+00</td>\n",
              "      <td>0.000000e+00</td>\n",
              "      <td>0.00</td>\n",
              "      <td>0.000000</td>\n",
              "      <td>0.000000</td>\n",
              "      <td>0.000000</td>\n",
              "      <td>0.000000e+00</td>\n",
              "      <td>0.000000</td>\n",
              "    </tr>\n",
              "    <tr>\n",
              "      <th>ERC20 avg time between contract tnx</th>\n",
              "      <td>3467.0</td>\n",
              "      <td>0.000000e+00</td>\n",
              "      <td>0.000000e+00</td>\n",
              "      <td>0.00</td>\n",
              "      <td>0.000000</td>\n",
              "      <td>0.000000</td>\n",
              "      <td>0.000000</td>\n",
              "      <td>0.000000e+00</td>\n",
              "      <td>0.000000</td>\n",
              "    </tr>\n",
              "    <tr>\n",
              "      <th>ERC20 min val rec</th>\n",
              "      <td>3467.0</td>\n",
              "      <td>3.203984e+02</td>\n",
              "      <td>1.683178e+04</td>\n",
              "      <td>0.00</td>\n",
              "      <td>0.000000</td>\n",
              "      <td>0.000000</td>\n",
              "      <td>0.000000</td>\n",
              "      <td>9.900000e+05</td>\n",
              "      <td>0.000000</td>\n",
              "    </tr>\n",
              "    <tr>\n",
              "      <th>ERC20 max val rec</th>\n",
              "      <td>3467.0</td>\n",
              "      <td>1.248788e+07</td>\n",
              "      <td>1.398767e+08</td>\n",
              "      <td>0.00</td>\n",
              "      <td>0.000000</td>\n",
              "      <td>0.000000</td>\n",
              "      <td>100.000000</td>\n",
              "      <td>3.000000e+09</td>\n",
              "      <td>0.000000</td>\n",
              "    </tr>\n",
              "    <tr>\n",
              "      <th>ERC20 avg val rec</th>\n",
              "      <td>3467.0</td>\n",
              "      <td>1.570676e+06</td>\n",
              "      <td>2.905597e+07</td>\n",
              "      <td>0.00</td>\n",
              "      <td>0.000000</td>\n",
              "      <td>0.000000</td>\n",
              "      <td>25.823749</td>\n",
              "      <td>7.765159e+08</td>\n",
              "      <td>0.000000</td>\n",
              "    </tr>\n",
              "    <tr>\n",
              "      <th>ERC20 min val sent</th>\n",
              "      <td>3467.0</td>\n",
              "      <td>3.212334e+02</td>\n",
              "      <td>1.681927e+04</td>\n",
              "      <td>0.00</td>\n",
              "      <td>0.000000</td>\n",
              "      <td>0.000000</td>\n",
              "      <td>0.000000</td>\n",
              "      <td>9.900000e+05</td>\n",
              "      <td>0.000000</td>\n",
              "    </tr>\n",
              "    <tr>\n",
              "      <th>ERC20 max val sent</th>\n",
              "      <td>3467.0</td>\n",
              "      <td>5.364961e+05</td>\n",
              "      <td>1.732019e+07</td>\n",
              "      <td>0.00</td>\n",
              "      <td>0.000000</td>\n",
              "      <td>0.000000</td>\n",
              "      <td>0.000000</td>\n",
              "      <td>1.000010e+09</td>\n",
              "      <td>0.000000</td>\n",
              "    </tr>\n",
              "    <tr>\n",
              "      <th>ERC20 avg val sent</th>\n",
              "      <td>3467.0</td>\n",
              "      <td>1.599012e+05</td>\n",
              "      <td>8.496343e+06</td>\n",
              "      <td>0.00</td>\n",
              "      <td>0.000000</td>\n",
              "      <td>0.000000</td>\n",
              "      <td>0.000000</td>\n",
              "      <td>5.000050e+08</td>\n",
              "      <td>0.000000</td>\n",
              "    </tr>\n",
              "    <tr>\n",
              "      <th>ERC20 min val sent contract</th>\n",
              "      <td>3467.0</td>\n",
              "      <td>0.000000e+00</td>\n",
              "      <td>0.000000e+00</td>\n",
              "      <td>0.00</td>\n",
              "      <td>0.000000</td>\n",
              "      <td>0.000000</td>\n",
              "      <td>0.000000</td>\n",
              "      <td>0.000000e+00</td>\n",
              "      <td>0.000000</td>\n",
              "    </tr>\n",
              "    <tr>\n",
              "      <th>ERC20 max val sent contract</th>\n",
              "      <td>3467.0</td>\n",
              "      <td>0.000000e+00</td>\n",
              "      <td>0.000000e+00</td>\n",
              "      <td>0.00</td>\n",
              "      <td>0.000000</td>\n",
              "      <td>0.000000</td>\n",
              "      <td>0.000000</td>\n",
              "      <td>0.000000e+00</td>\n",
              "      <td>0.000000</td>\n",
              "    </tr>\n",
              "    <tr>\n",
              "      <th>ERC20 avg val sent contract</th>\n",
              "      <td>3467.0</td>\n",
              "      <td>0.000000e+00</td>\n",
              "      <td>0.000000e+00</td>\n",
              "      <td>0.00</td>\n",
              "      <td>0.000000</td>\n",
              "      <td>0.000000</td>\n",
              "      <td>0.000000</td>\n",
              "      <td>0.000000e+00</td>\n",
              "      <td>0.000000</td>\n",
              "    </tr>\n",
              "    <tr>\n",
              "      <th>ERC20 uniq sent token name</th>\n",
              "      <td>3467.0</td>\n",
              "      <td>1.253822e+00</td>\n",
              "      <td>5.490606e+00</td>\n",
              "      <td>0.00</td>\n",
              "      <td>0.000000</td>\n",
              "      <td>0.000000</td>\n",
              "      <td>0.000000</td>\n",
              "      <td>1.310000e+02</td>\n",
              "      <td>0.000000</td>\n",
              "    </tr>\n",
              "    <tr>\n",
              "      <th>ERC20 uniq rec token name</th>\n",
              "      <td>3467.0</td>\n",
              "      <td>4.771560e+00</td>\n",
              "      <td>1.584377e+01</td>\n",
              "      <td>0.00</td>\n",
              "      <td>0.000000</td>\n",
              "      <td>0.000000</td>\n",
              "      <td>2.000000</td>\n",
              "      <td>4.380000e+02</td>\n",
              "      <td>0.000000</td>\n",
              "    </tr>\n",
              "  </tbody>\n",
              "</table>\n",
              "</div>"
            ],
            "text/plain": [
              "                                                     count  ...         median\n",
              "Unnamed: 0                                          3468.0  ...    1733.500000\n",
              "Index                                               3468.0  ...    1199.500000\n",
              "FLAG                                                3467.0  ...       0.000000\n",
              "Avg min between sent tnx                            3467.0  ...      22.790000\n",
              "Avg min between received tnx                        3467.0  ...    1306.920000\n",
              "Time Diff between first and last (Mins)             3467.0  ...  105904.980000\n",
              "Sent tnx                                            3467.0  ...       3.000000\n",
              "Received Tnx                                        3467.0  ...       5.000000\n",
              "Number of Created Contracts                         3467.0  ...       0.000000\n",
              "Unique Received From Addresses                      3467.0  ...       2.000000\n",
              "Unique Sent To Addresses                            3467.0  ...       2.000000\n",
              "min value received                                  3467.0  ...       0.197853\n",
              "max value received                                  3467.0  ...      13.043238\n",
              "avg val received                                    3467.0  ...       3.972853\n",
              "min val sent                                        3467.0  ...       0.062387\n",
              "max val sent                                        3467.0  ...      10.092219\n",
              "avg val sent                                        3467.0  ...       2.775678\n",
              "min value sent to contract                          3467.0  ...       0.000000\n",
              "max val sent to contract                            3467.0  ...       0.000000\n",
              "avg value sent to contract                          3467.0  ...       0.000000\n",
              "total transactions (including tnx to create con...  3467.0  ...      10.000000\n",
              "total Ether sent                                    3467.0  ...      36.996054\n",
              "total ether received                                3467.0  ...      78.168400\n",
              "total ether sent contracts                          3467.0  ...       0.000000\n",
              "total ether balance                                 3467.0  ...       0.002058\n",
              " Total ERC20 tnxs                                   3467.0  ...       0.000000\n",
              " ERC20 total Ether received                         3467.0  ...       0.000000\n",
              " ERC20 total ether sent                             3467.0  ...       0.000000\n",
              " ERC20 total Ether sent contract                    3467.0  ...       0.000000\n",
              " ERC20 uniq sent addr                               3467.0  ...       0.000000\n",
              " ERC20 uniq rec addr                                3467.0  ...       0.000000\n",
              " ERC20 uniq sent addr.1                             3467.0  ...       0.000000\n",
              " ERC20 uniq rec contract addr                       3467.0  ...       0.000000\n",
              " ERC20 avg time between sent tnx                    3467.0  ...       0.000000\n",
              " ERC20 avg time between rec tnx                     3467.0  ...       0.000000\n",
              " ERC20 avg time between rec 2 tnx                   3467.0  ...       0.000000\n",
              " ERC20 avg time between contract tnx                3467.0  ...       0.000000\n",
              " ERC20 min val rec                                  3467.0  ...       0.000000\n",
              " ERC20 max val rec                                  3467.0  ...       0.000000\n",
              " ERC20 avg val rec                                  3467.0  ...       0.000000\n",
              " ERC20 min val sent                                 3467.0  ...       0.000000\n",
              " ERC20 max val sent                                 3467.0  ...       0.000000\n",
              " ERC20 avg val sent                                 3467.0  ...       0.000000\n",
              " ERC20 min val sent contract                        3467.0  ...       0.000000\n",
              " ERC20 max val sent contract                        3467.0  ...       0.000000\n",
              " ERC20 avg val sent contract                        3467.0  ...       0.000000\n",
              " ERC20 uniq sent token name                         3467.0  ...       0.000000\n",
              " ERC20 uniq rec token name                          3467.0  ...       0.000000\n",
              "\n",
              "[48 rows x 9 columns]"
            ]
          },
          "metadata": {},
          "execution_count": 8
        }
      ]
    },
    {
      "cell_type": "markdown",
      "metadata": {
        "id": "M6jR7ATY1GPz"
      },
      "source": [
        "Como se puede observar de la salida anterior, existen algunas columnas cuyos valores son todos nulos. Por ello, dichas columnas se pueden eliminar ya que no son relevantes para el modelo. "
      ]
    },
    {
      "cell_type": "code",
      "metadata": {
        "id": "i876AIrG1dto"
      },
      "source": [
        "#Se eliminan las columnas que solo tienen ceros:\n",
        "data.drop(columns=[' ERC20 avg time between rec tnx', ' ERC20 avg time between rec 2 tnx', ' ERC20 avg time between contract tnx',\n",
        "                 ' ERC20 min val sent contract', ' ERC20 max val sent contract', ' ERC20 avg val sent contract', ' ERC20 avg time between sent tnx'], inplace=True)"
      ],
      "execution_count": 17,
      "outputs": []
    },
    {
      "cell_type": "markdown",
      "metadata": {
        "id": "8NKaOQNL1lMh"
      },
      "source": [
        "A continuación se procede a realizar la matriz de correlaciones entres los diferentes campos del dataset. Las correlaciones que son interesantes son las de la columna FLAG, ya que dicha columna es la variable de salida del modelo (indica si una transacción es normal (0) o fraudulenta (1))"
      ]
    },
    {
      "cell_type": "code",
      "metadata": {
        "colab": {
          "base_uri": "https://localhost:8080/",
          "height": 838
        },
        "id": "a0vthRy217Ln",
        "outputId": "f26183aa-3b05-47c6-9d17-a6d6d478cfea"
      },
      "source": [
        "# Matriz de Correlación\n",
        "corr = data.corr()\n",
        "\n",
        "mask = np.zeros_like(corr)\n",
        "mask[np.triu_indices_from(mask)]=True\n",
        "with sns.axes_style('white'):\n",
        "    fig, ax = plt.subplots(figsize=(18,10))\n",
        "    sns.heatmap(corr,  mask=mask, annot=False, cmap='CMRmap', center=0, square=True)"
      ],
      "execution_count": 24,
      "outputs": [
        {
          "output_type": "display_data",
          "data": {
            "image/png": "[encoded data removed]",
            "text/plain": [
              "<Figure size 1296x720 with 2 Axes>"
            ]
          },
          "metadata": {}
        }
      ]
    },
    {
      "cell_type": "code",
      "metadata": {
        "colab": {
          "base_uri": "https://localhost:8080/"
        },
        "id": "10qlAKVk8QwW",
        "outputId": "18a1aa35-fd78-42ad-aabb-2fbae0ad4d91"
      },
      "source": [
        "#Encontrar las correlaciones más altas,\n",
        "print('\\033[1m'+'Listado de las variables con mayor influencia en el tipo de transacción junto a su coeficiente de correlación:'+'\\033[0m')\n",
        "important_var_list = []\n",
        "for i in range(0,len(corr)):\n",
        "    if corr['FLAG'][i] > 0.02:\n",
        "        print('{} {}'.format(corr.index[i],corr.loc[corr.index[i],'FLAG']))\n",
        "        important_var_list.append(corr.index[i])"
      ],
      "execution_count": 26,
      "outputs": [
        {
          "output_type": "stream",
          "name": "stdout",
          "text": [
            "\u001b[1mListado de las variables con mayor influencia en el tipo de transacción junto a su coeficiente de correlación:\u001b[0m\n",
            "Unnamed: 0 0.7191526526851808\n",
            "FLAG 1.0\n",
            " ERC20 total ether sent 0.024762246540286807\n",
            " ERC20 min val sent 0.025364154087447317\n",
            " ERC20 max val sent 0.025038127044247467\n",
            " ERC20 avg val sent 0.02504351016185636\n"
          ]
        }
      ]
    },
    {
      "cell_type": "code",
      "metadata": {
        "id": "S8FRrDmVCy7U"
      },
      "source": [
        "#Se guarda la matriz de correlación en un csv\n",
        "corr.to_csv('matriz_correlacion.csv')"
      ],
      "execution_count": 27,
      "outputs": []
    },
    {
      "cell_type": "markdown",
      "metadata": {
        "id": "BivXWgkYC9wP"
      },
      "source": [
        " **Tratamiento de Missing** "
      ]
    },
    {
      "cell_type": "markdown",
      "metadata": {
        "id": "s_IBwxCfDMaa"
      },
      "source": [
        "Para saber qué datos faltan en el dataset y poder decidir cómo trabajar con ellos es necesario realizar un análisis de dichos datos. \n",
        "\n",
        "Lo primero que se va a realizar es una gráfica para ver de forma visual donde estan los datos de que faltan"
      ]
    },
    {
      "cell_type": "code",
      "metadata": {
        "colab": {
          "base_uri": "https://localhost:8080/",
          "height": 543
        },
        "id": "UKWkZY5TDLW4",
        "outputId": "acb14d81-8340-4eaf-826e-3219f149245e"
      },
      "source": [
        "import missingno\n",
        "\n",
        "missingno.matrix(data,sparkline=False, figsize=(10,5), fontsize=12, color=(0.27, 0.52, 1.0));"
      ],
      "execution_count": 28,
      "outputs": [
        {
          "output_type": "display_data",
          "data": {
            "image/png": "[encoded data removed]",
            "text/plain": [
              "<Figure size 720x360 with 1 Axes>"
            ]
          },
          "metadata": {
            "needs_background": "light"
          }
        }
      ]
    },
    {
      "cell_type": "markdown",
      "metadata": {
        "id": "XZxABtDjDsyu"
      },
      "source": [
        "Se procede a realizar una lista con los datos faltantes de cada columna"
      ]
    },
    {
      "cell_type": "code",
      "metadata": {
        "colab": {
          "base_uri": "https://localhost:8080/"
        },
        "id": "IKlnJV7ODxmB",
        "outputId": "cc14badd-1827-4241-c479-bb1c2971c621"
      },
      "source": [
        "# Lista con los missing de cada columna\n",
        "missing = data.isna().sum()\n",
        "# Creamos dataframe con columnas y missing values\n",
        "missing_df = pd.DataFrame([data.columns,missing]).transpose()\n",
        "# Nos quedamos solo con  las columnas que tengan missing\n",
        "for index in missing_df.index:\n",
        "    if missing_df.iloc[index,1] > 0:\n",
        "        print('Columna: {}, N of NaN: {}, Index in Dataframe: {}'.format(missing_df.iloc[index,0],missing_df.iloc[\n",
        "            index,1],index))"
      ],
      "execution_count": 29,
      "outputs": [
        {
          "output_type": "stream",
          "name": "stdout",
          "text": [
            "Columna:  Total ERC20 tnxs, N of NaN: 829, Index in Dataframe: 24\n",
            "Columna:  ERC20 total Ether received, N of NaN: 829, Index in Dataframe: 25\n",
            "Columna:  ERC20 total ether sent, N of NaN: 829, Index in Dataframe: 26\n",
            "Columna:  ERC20 total Ether sent contract, N of NaN: 829, Index in Dataframe: 27\n",
            "Columna:  ERC20 uniq sent addr, N of NaN: 829, Index in Dataframe: 28\n",
            "Columna:  ERC20 uniq rec addr, N of NaN: 829, Index in Dataframe: 29\n",
            "Columna:  ERC20 uniq sent addr.1, N of NaN: 829, Index in Dataframe: 30\n",
            "Columna:  ERC20 uniq rec contract addr, N of NaN: 829, Index in Dataframe: 31\n",
            "Columna:  ERC20 min val rec, N of NaN: 829, Index in Dataframe: 32\n",
            "Columna:  ERC20 max val rec, N of NaN: 829, Index in Dataframe: 33\n",
            "Columna:  ERC20 avg val rec, N of NaN: 829, Index in Dataframe: 34\n",
            "Columna:  ERC20 min val sent, N of NaN: 829, Index in Dataframe: 35\n",
            "Columna:  ERC20 max val sent, N of NaN: 829, Index in Dataframe: 36\n",
            "Columna:  ERC20 avg val sent, N of NaN: 829, Index in Dataframe: 37\n",
            "Columna:  ERC20 uniq sent token name, N of NaN: 829, Index in Dataframe: 38\n",
            "Columna:  ERC20 uniq rec token name, N of NaN: 829, Index in Dataframe: 39\n"
          ]
        }
      ]
    },
    {
      "cell_type": "markdown",
      "metadata": {
        "id": "KZahKKs9D_Hi"
      },
      "source": [
        "De los datos que faltan vemos cuántos pertenecen a transacciones fraudulentas"
      ]
    },
    {
      "cell_type": "code",
      "metadata": {
        "colab": {
          "base_uri": "https://localhost:8080/"
        },
        "id": "8ECV6vTXEEHS",
        "outputId": "edada8eb-669c-4fe6-ef99-9462c9279228"
      },
      "source": [
        "non_fraud_rows, fraud_rows = np.where( [data.iloc[:,0]==1] )\n",
        "print(data.iloc[fraud_rows,:].isna().sum()[-20:])"
      ],
      "execution_count": 30,
      "outputs": [
        {
          "output_type": "stream",
          "name": "stdout",
          "text": [
            "total Ether sent                    0\n",
            "total ether received                0\n",
            "total ether sent contracts          0\n",
            "total ether balance                 0\n",
            " Total ERC20 tnxs                   0\n",
            " ERC20 total Ether received         0\n",
            " ERC20 total ether sent             0\n",
            " ERC20 total Ether sent contract    0\n",
            " ERC20 uniq sent addr               0\n",
            " ERC20 uniq rec addr                0\n",
            " ERC20 uniq sent addr.1             0\n",
            " ERC20 uniq rec contract addr       0\n",
            " ERC20 min val rec                  0\n",
            " ERC20 max val rec                  0\n",
            " ERC20 avg val rec                  0\n",
            " ERC20 min val sent                 0\n",
            " ERC20 max val sent                 0\n",
            " ERC20 avg val sent                 0\n",
            " ERC20 uniq sent token name         0\n",
            " ERC20 uniq rec token name          0\n",
            "dtype: int64\n"
          ]
        }
      ]
    },
    {
      "cell_type": "markdown",
      "metadata": {
        "id": "T21SRFwREMGV"
      },
      "source": [
        "Como se puede observar, la mayoría de los datos faltantes pertenecen a transacciones fraudulentas por lo que, para no eliminarlas, rellenamos los valores con la mediana de la columna"
      ]
    },
    {
      "cell_type": "code",
      "metadata": {
        "id": "yR5a7fBEEbek"
      },
      "source": [
        "#Se reemplazan los valores faltantes por la mediana\n",
        "data.fillna(data.median(), inplace=True)"
      ],
      "execution_count": 31,
      "outputs": []
    },
    {
      "cell_type": "markdown",
      "metadata": {
        "id": "DR8MlJ1JEhYB"
      },
      "source": [
        "**Creación del modelo de detección de anomalías**"
      ]
    },
    {
      "cell_type": "markdown",
      "metadata": {
        "id": "b_8XYve3EnQ6"
      },
      "source": [
        "Lo primero que hacemos una exploración de las transacciones del dataset para ver qué porcentaje de ellas son fraudulentas y qué porcentaje son normales. "
      ]
    },
    {
      "cell_type": "code",
      "metadata": {
        "colab": {
          "base_uri": "https://localhost:8080/"
        },
        "id": "UONQqdVSJd-M",
        "outputId": "3e5bf0a2-8264-4d26-8679-06008b2c3b45"
      },
      "source": [
        "print(data['FLAG'].value_counts())"
      ],
      "execution_count": 32,
      "outputs": [
        {
          "output_type": "stream",
          "name": "stdout",
          "text": [
            "0    7662\n",
            "1    2179\n",
            "Name: FLAG, dtype: int64\n"
          ]
        }
      ]
    },
    {
      "cell_type": "code",
      "metadata": {
        "colab": {
          "base_uri": "https://localhost:8080/",
          "height": 295
        },
        "id": "PrfXgP_QJhNf",
        "outputId": "cd0dfc6e-86fc-416b-9b1f-5c5953b20b68"
      },
      "source": [
        "count_classes = pd.value_counts(data['FLAG'], sort = True)\n",
        "count_classes.plot(kind = 'bar', rot=0)\n",
        "plt.title(\"Frequency by observation number\")\n",
        "plt.xlabel(\"Class\")\n",
        "plt.ylabel(\"Number of Observations\");"
      ],
      "execution_count": 33,
      "outputs": [
        {
          "output_type": "display_data",
          "data": {
            "image/png": "[encoded data removed]",
            "text/plain": [
              "<Figure size 432x288 with 1 Axes>"
            ]
          },
          "metadata": {
            "needs_background": "light"
          }
        }
      ]
    },
    {
      "cell_type": "markdown",
      "metadata": {
        "id": "OdQzGmgoJkxf"
      },
      "source": [
        "Como se puede observar es un dataset con datos desbalanceados (mayor número de transacciones normales que fraudulentas), aunque eso era de esperar ya que la clase anómala es siempre menor. "
      ]
    },
    {
      "cell_type": "markdown",
      "metadata": {
        "id": "Pn28sY7XJx4d"
      },
      "source": [
        "El algoritmo a implementar va a ser Isolation Forest. Este modelo es como un árbol que va clasificando los datos en función de sus valores. Cuando se llega a la máxima profundidad en una de sus ramas, ese valor se cataloga como anómalo, ya que suelen ser los que menos características tienen en común con el resto de datos. "
      ]
    },
    {
      "cell_type": "markdown",
      "metadata": {
        "id": "NRiKdpB8KJ-L"
      },
      "source": [
        "Para poder entrenar el modelo se necesita separar los datos en dos conjuntos: Entrenamiento y test. "
      ]
    },
    {
      "cell_type": "code",
      "metadata": {
        "id": "dO7isrmYOsPQ"
      },
      "source": [
        "cols = list(data.columns[1:len(data.columns)-1]) # Quitamos el id y la variable y dependiente \n",
        "X = data[cols].values\n",
        "y=data['FLAG']\n",
        "\n",
        "# Division of dataset\n",
        "X_train, X_test, Y_train, Y_test = train_test_split(X, y, test_size = 0.2, random_state = 3)"
      ],
      "execution_count": 34,
      "outputs": []
    },
    {
      "cell_type": "code",
      "metadata": {
        "colab": {
          "base_uri": "https://localhost:8080/"
        },
        "id": "ImylWbU-O2_y",
        "outputId": "16a51824-4b4f-456d-9d04-a98455fd0448"
      },
      "source": [
        "print(X_train.shape, Y_train.shape)\n",
        "print(X_test.shape, Y_test.shape)"
      ],
      "execution_count": 35,
      "outputs": [
        {
          "output_type": "stream",
          "name": "stdout",
          "text": [
            "(7872, 38) (7872,)\n",
            "(1969, 38) (1969,)\n"
          ]
        }
      ]
    },
    {
      "cell_type": "markdown",
      "metadata": {
        "id": "xBW75ryvO8_r"
      },
      "source": [
        "Creación y entrenamiento del modelo"
      ]
    },
    {
      "cell_type": "code",
      "metadata": {
        "colab": {
          "base_uri": "https://localhost:8080/"
        },
        "id": "y6Xy59sPPAdy",
        "outputId": "7b0ec462-fea3-4203-de40-ec132753ea7b"
      },
      "source": [
        "# Creación del modelo\n",
        "if_model = IsolationForest(n_estimators = 100, max_samples = 'auto', contamination = 'auto', max_features = 1)\n",
        "# Entrenamiento del modelo\n",
        "if_model.fit(X_train)"
      ],
      "execution_count": 36,
      "outputs": [
        {
          "output_type": "execute_result",
          "data": {
            "text/plain": [
              "IsolationForest(behaviour='deprecated', bootstrap=False, contamination='auto',\n",
              "                max_features=1, max_samples='auto', n_estimators=100,\n",
              "                n_jobs=None, random_state=None, verbose=0, warm_start=False)"
            ]
          },
          "metadata": {},
          "execution_count": 36
        }
      ]
    },
    {
      "cell_type": "markdown",
      "metadata": {
        "id": "8iPNfpOePJ7o"
      },
      "source": [
        "Predicción de las variables y del conjunto de test y evaluación del modelo"
      ]
    },
    {
      "cell_type": "code",
      "metadata": {
        "id": "Ei0oYN21PP4o"
      },
      "source": [
        "y_pred = if_model.predict(X_test)"
      ],
      "execution_count": 43,
      "outputs": []
    },
    {
      "cell_type": "code",
      "metadata": {
        "id": "5kvxKBkVTY6h"
      },
      "source": [
        "y_pred = [0 if prediction == 1 else 1 for prediction in y_pred ]"
      ],
      "execution_count": 62,
      "outputs": []
    },
    {
      "cell_type": "code",
      "metadata": {
        "id": "0_yGEcK3PZ_h"
      },
      "source": [
        "# Función para imprimir la matriz de confusión\n",
        "def plot_confusion_matrix(cm, classes,normalize=False,title='Confusion matrix', cmap=plt.cm.Blues):\n",
        "\n",
        "    plt.imshow(cm, interpolation='nearest', cmap=cmap)\n",
        "    plt.title(title)\n",
        "    plt.colorbar()\n",
        "    tick_marks = np.arange(len(classes))\n",
        "    plt.xticks(tick_marks, classes, rotation=45)\n",
        "    plt.yticks(tick_marks, classes)\n",
        "\n",
        "    fmt = '.2f' if normalize else 'd'\n",
        "    thresh = cm.max() / 2.\n",
        "    for i, j in itertools.product(range(cm.shape[0]), range(cm.shape[1])):\n",
        "        plt.text(j, i, format(cm[i, j], fmt),\n",
        "                 horizontalalignment=\"center\",\n",
        "                 color=\"white\" if cm[i, j] > thresh else \"black\")\n",
        "\n",
        "    plt.tight_layout()\n",
        "    plt.ylabel('True label')\n",
        "    plt.xlabel('Predicted label')"
      ],
      "execution_count": 39,
      "outputs": []
    },
    {
      "cell_type": "code",
      "metadata": {
        "colab": {
          "base_uri": "https://localhost:8080/",
          "height": 311
        },
        "id": "amML6O74P-UL",
        "outputId": "18f2cae9-7aeb-4317-81de-493238456ca3"
      },
      "source": [
        "# Creamos e imprimimos la matriz de confusión\n",
        "conf_matrix_if = confusion_matrix(y_pred, Y_test,labels = [1,0]) # Coloco este orden de labels para que los fraudulentos queden como TP y los no fraudulentos como TN (ya que lo que se quiere ver es si son fraudulentos o no) \n",
        "plot_confusion_matrix(conf_matrix_if, classes=['Fraudulent','Not Fraudulent'],normalize= False,  title='Confusion matrix for Anomaly Detection')"
      ],
      "execution_count": 63,
      "outputs": [
        {
          "output_type": "display_data",
          "data": {
            "image/png": "[encoded data removed]",
            "text/plain": [
              "<Figure size 432x288 with 2 Axes>"
            ]
          },
          "metadata": {
            "needs_background": "light"
          }
        }
      ]
    },
    {
      "cell_type": "code",
      "metadata": {
        "id": "1s7bKPpaQGnX"
      },
      "source": [
        "def calculate_metrics(real, predicted):\n",
        "    print(\"Accuracy: {:.4f}\".format(accuracy_score(real, predicted)))\n",
        "    print(\"Precision: {:.4f}\".format(precision_score(real, predicted,average = 'weighted')))\n",
        "    # La sensibilidad es equivalente al recall\n",
        "    print(\"Sensibilidad: {:.4f}\".format(recall_score(real, predicted,average = 'weighted')))\n",
        "    print(\"F1: {:.4f}\".format(f1_score(real, predicted,average = 'weighted',labels=np.unique(predicted))))"
      ],
      "execution_count": 46,
      "outputs": []
    },
    {
      "cell_type": "code",
      "metadata": {
        "colab": {
          "base_uri": "https://localhost:8080/"
        },
        "id": "431C2WpDQK6T",
        "outputId": "cedd8492-cd22-4451-9765-530bd8340d33"
      },
      "source": [
        "calculate_metrics(Y_test, y_pred)"
      ],
      "execution_count": 64,
      "outputs": [
        {
          "output_type": "stream",
          "name": "stdout",
          "text": [
            "Accuracy: 0.7562\n",
            "Precision: 0.6375\n",
            "Sensibilidad: 0.7562\n",
            "F1: 0.6866\n"
          ]
        }
      ]
    },
    {
      "cell_type": "markdown",
      "metadata": {
        "id": "5jm4QuEwQRWL"
      },
      "source": [
        "**Comparativa entre diferentes hiperparámetros del Isolation Forest**"
      ]
    },
    {
      "cell_type": "markdown",
      "metadata": {
        "id": "l4ZmZvYpQ3Wo"
      },
      "source": [
        "Diferente número de estimadores"
      ]
    },
    {
      "cell_type": "code",
      "metadata": {
        "colab": {
          "base_uri": "https://localhost:8080/"
        },
        "id": "BRZYbiQfQxNU",
        "outputId": "29f842e9-4bd0-4e30-fb54-4e6cf36e777a"
      },
      "source": [
        "# Creación del modelo\n",
        "if_model1 = IsolationForest(n_estimators = 50, max_samples = 'auto', contamination = 'auto', max_features = 1)\n",
        "# Entrenamiento del modelo\n",
        "if_model1.fit(X_train)"
      ],
      "execution_count": 48,
      "outputs": [
        {
          "output_type": "execute_result",
          "data": {
            "text/plain": [
              "IsolationForest(behaviour='deprecated', bootstrap=False, contamination='auto',\n",
              "                max_features=1, max_samples='auto', n_estimators=50,\n",
              "                n_jobs=None, random_state=None, verbose=0, warm_start=False)"
            ]
          },
          "metadata": {},
          "execution_count": 48
        }
      ]
    },
    {
      "cell_type": "code",
      "metadata": {
        "colab": {
          "base_uri": "https://localhost:8080/"
        },
        "id": "sxSSAeaCQxFL",
        "outputId": "538e9168-991d-49e7-c0b3-2676fba347bd"
      },
      "source": [
        "# Creación del modelo\n",
        "if_model2 = IsolationForest(n_estimators = 150, max_samples = 'auto', contamination = 'auto', max_features = 1)\n",
        "# Entrenamiento del modelo\n",
        "if_model2.fit(X_train)"
      ],
      "execution_count": 49,
      "outputs": [
        {
          "output_type": "execute_result",
          "data": {
            "text/plain": [
              "IsolationForest(behaviour='deprecated', bootstrap=False, contamination='auto',\n",
              "                max_features=1, max_samples='auto', n_estimators=150,\n",
              "                n_jobs=None, random_state=None, verbose=0, warm_start=False)"
            ]
          },
          "metadata": {},
          "execution_count": 49
        }
      ]
    },
    {
      "cell_type": "code",
      "metadata": {
        "colab": {
          "base_uri": "https://localhost:8080/"
        },
        "id": "OYcW6n7MQ_S0",
        "outputId": "1f845a58-3050-4d0e-b9ee-280bc5b3e2d3"
      },
      "source": [
        "# Creación del modelo\n",
        "if_model3 = IsolationForest(n_estimators = 200, max_samples = 'auto', contamination = 'auto', max_features = 1)\n",
        "# Entrenamiento del modelo\n",
        "if_model3.fit(X_train)"
      ],
      "execution_count": 50,
      "outputs": [
        {
          "output_type": "execute_result",
          "data": {
            "text/plain": [
              "IsolationForest(behaviour='deprecated', bootstrap=False, contamination='auto',\n",
              "                max_features=1, max_samples='auto', n_estimators=200,\n",
              "                n_jobs=None, random_state=None, verbose=0, warm_start=False)"
            ]
          },
          "metadata": {},
          "execution_count": 50
        }
      ]
    },
    {
      "cell_type": "code",
      "metadata": {
        "id": "bAucmbJIRfpz"
      },
      "source": [
        "y_pred1=if_model1.predict(X_test)\n",
        "y_pred2=if_model2.predict(X_test)\n",
        "y_pred3=if_model3.predict(X_test)"
      ],
      "execution_count": 52,
      "outputs": []
    },
    {
      "cell_type": "code",
      "metadata": {
        "id": "fBgmMQ_jTjK-"
      },
      "source": [
        "y_pred1 = [0 if prediction == 1 else 1 for prediction in y_pred1 ]\n",
        "y_pred2 = [0 if prediction == 1 else 1 for prediction in y_pred2 ]\n",
        "y_pred3 = [0 if prediction == 1 else 1 for prediction in y_pred3 ]"
      ],
      "execution_count": 65,
      "outputs": []
    },
    {
      "cell_type": "code",
      "metadata": {
        "colab": {
          "base_uri": "https://localhost:8080/"
        },
        "id": "Mb6NnBflRqBP",
        "outputId": "22763884-b7cb-43b6-9b32-2732aa96f0ef"
      },
      "source": [
        "print('50 estimadores')\n",
        "calculate_metrics(Y_test, y_pred1)\n",
        "\n",
        "print('150 estimadores')\n",
        "calculate_metrics(Y_test, y_pred2)\n",
        "\n",
        "print('200 estimadores')\n",
        "calculate_metrics(Y_test, y_pred3)"
      ],
      "execution_count": 66,
      "outputs": [
        {
          "output_type": "stream",
          "name": "stdout",
          "text": [
            "50 estimadores\n",
            "Accuracy: 0.7603\n",
            "Precision: 0.6283\n",
            "Sensibilidad: 0.7603\n",
            "F1: 0.6856\n",
            "150 estimadores\n",
            "Accuracy: 0.7466\n",
            "Precision: 0.6308\n",
            "Sensibilidad: 0.7466\n",
            "F1: 0.6806\n",
            "200 estimadores\n",
            "Accuracy: 0.7593\n",
            "Precision: 0.6310\n",
            "Sensibilidad: 0.7593\n",
            "F1: 0.6858\n"
          ]
        }
      ]
    },
    {
      "cell_type": "markdown",
      "metadata": {
        "id": "lnYaW-nVQ7X2"
      },
      "source": [
        "Diferente número de features"
      ]
    },
    {
      "cell_type": "code",
      "metadata": {
        "colab": {
          "base_uri": "https://localhost:8080/"
        },
        "id": "qwO8F4IuQw_g",
        "outputId": "d1481b8c-8e40-4c48-c9d2-38e4f5b19a17"
      },
      "source": [
        "# Creación del modelo\n",
        "if_model4 = IsolationForest(n_estimators = 100, max_samples = 'auto', contamination = 'auto', max_features = 3)\n",
        "# Entrenamiento del modelo\n",
        "if_model4.fit(X_train)"
      ],
      "execution_count": 56,
      "outputs": [
        {
          "output_type": "execute_result",
          "data": {
            "text/plain": [
              "IsolationForest(behaviour='deprecated', bootstrap=False, contamination='auto',\n",
              "                max_features=3, max_samples='auto', n_estimators=100,\n",
              "                n_jobs=None, random_state=None, verbose=0, warm_start=False)"
            ]
          },
          "metadata": {},
          "execution_count": 56
        }
      ]
    },
    {
      "cell_type": "code",
      "metadata": {
        "colab": {
          "base_uri": "https://localhost:8080/"
        },
        "id": "MwbXJBEdQw0N",
        "outputId": "00952b37-e11e-42de-a34e-a69f6c81b532"
      },
      "source": [
        "# Creación del modelo\n",
        "if_model5 = IsolationForest(n_estimators = 100, max_samples = 'auto', contamination = 'auto', max_features = 5)\n",
        "# Entrenamiento del modelo\n",
        "if_model5.fit(X_train)"
      ],
      "execution_count": 57,
      "outputs": [
        {
          "output_type": "execute_result",
          "data": {
            "text/plain": [
              "IsolationForest(behaviour='deprecated', bootstrap=False, contamination='auto',\n",
              "                max_features=5, max_samples='auto', n_estimators=100,\n",
              "                n_jobs=None, random_state=None, verbose=0, warm_start=False)"
            ]
          },
          "metadata": {},
          "execution_count": 57
        }
      ]
    },
    {
      "cell_type": "code",
      "metadata": {
        "colab": {
          "base_uri": "https://localhost:8080/"
        },
        "id": "EfGq7-NYRPGc",
        "outputId": "a0a7aa58-1285-4a90-b465-95c17347015e"
      },
      "source": [
        "# Creación del modelo\n",
        "if_model6 = IsolationForest(n_estimators = 100, max_samples = 'auto', contamination = 'auto', max_features = 7)\n",
        "# Entrenamiento del modelo\n",
        "if_model6.fit(X_train)"
      ],
      "execution_count": 58,
      "outputs": [
        {
          "output_type": "execute_result",
          "data": {
            "text/plain": [
              "IsolationForest(behaviour='deprecated', bootstrap=False, contamination='auto',\n",
              "                max_features=7, max_samples='auto', n_estimators=100,\n",
              "                n_jobs=None, random_state=None, verbose=0, warm_start=False)"
            ]
          },
          "metadata": {},
          "execution_count": 58
        }
      ]
    },
    {
      "cell_type": "code",
      "metadata": {
        "id": "kwkAKVXJSKNV"
      },
      "source": [
        "y_pred4=if_model4.predict(X_test)\n",
        "y_pred5=if_model5.predict(X_test)\n",
        "y_pred6=if_model6.predict(X_test)"
      ],
      "execution_count": 59,
      "outputs": []
    },
    {
      "cell_type": "code",
      "metadata": {
        "id": "1Qht9cdVTvIO"
      },
      "source": [
        "y_pred4 = [0 if prediction == 1 else 1 for prediction in y_pred4 ]\n",
        "y_pred5 = [0 if prediction == 1 else 1 for prediction in y_pred5 ]\n",
        "y_pred6 = [0 if prediction == 1 else 1 for prediction in y_pred6 ]"
      ],
      "execution_count": 67,
      "outputs": []
    },
    {
      "cell_type": "code",
      "metadata": {
        "colab": {
          "base_uri": "https://localhost:8080/"
        },
        "id": "4Qyu3fiSSWkM",
        "outputId": "e219165f-5e7e-4f16-ea6e-90eee28c7e72"
      },
      "source": [
        "print('3 features')\n",
        "calculate_metrics(Y_test, y_pred4)\n",
        "\n",
        "print('5 features')\n",
        "calculate_metrics(Y_test, y_pred5)\n",
        "\n",
        "print('7 features')\n",
        "calculate_metrics(Y_test, y_pred6)"
      ],
      "execution_count": 68,
      "outputs": [
        {
          "output_type": "stream",
          "name": "stdout",
          "text": [
            "3 features\n",
            "Accuracy: 0.7593\n",
            "Precision: 0.6339\n",
            "Sensibilidad: 0.7593\n",
            "F1: 0.6866\n",
            "5 features\n",
            "Accuracy: 0.7628\n",
            "Precision: 0.6293\n",
            "Sensibilidad: 0.7628\n",
            "F1: 0.6869\n",
            "7 features\n",
            "Accuracy: 0.7583\n",
            "Precision: 0.6386\n",
            "Sensibilidad: 0.7583\n",
            "F1: 0.6877\n"
          ]
        }
      ]
    },
    {
      "cell_type": "markdown",
      "metadata": {
        "id": "4bUrW1XnRTx0"
      },
      "source": [
        "Combinación de los dos mejores modelos"
      ]
    },
    {
      "cell_type": "markdown",
      "metadata": {
        "id": "E8eWcrcWotO0"
      },
      "source": [
        "En función de la precisión el mejor modelo sería con 100 estimadores y 7 features (modelo 6) y en función del accuracy sería con 50 estimadores y 5 features."
      ]
    },
    {
      "cell_type": "code",
      "metadata": {
        "colab": {
          "base_uri": "https://localhost:8080/"
        },
        "id": "PKoeDYP_RSix",
        "outputId": "184050ea-482b-4678-cc66-9034d6bd5110"
      },
      "source": [
        "# Creación del modelo\n",
        "if_model7 = IsolationForest(n_estimators = 50, max_samples = 'auto', contamination = 'auto', max_features = 7)\n",
        "# Entrenamiento del modelo\n",
        "if_model7.fit(X_train)"
      ],
      "execution_count": 69,
      "outputs": [
        {
          "output_type": "execute_result",
          "data": {
            "text/plain": [
              "IsolationForest(behaviour='deprecated', bootstrap=False, contamination='auto',\n",
              "                max_features=7, max_samples='auto', n_estimators=50,\n",
              "                n_jobs=None, random_state=None, verbose=0, warm_start=False)"
            ]
          },
          "metadata": {},
          "execution_count": 69
        }
      ]
    },
    {
      "cell_type": "code",
      "metadata": {
        "id": "QS7WN6bzpJgm"
      },
      "source": [
        "y_pred7 = if_model7.predict(X_test)\n",
        "y_pred7 = [0 if prediction == 1 else 1 for prediction in y_pred7 ]"
      ],
      "execution_count": 70,
      "outputs": []
    },
    {
      "cell_type": "code",
      "metadata": {
        "colab": {
          "base_uri": "https://localhost:8080/"
        },
        "id": "VdAWOsUUpWYW",
        "outputId": "d188dafe-dc54-4b23-cfc8-6c9b44e4d3eb"
      },
      "source": [
        "calculate_metrics(Y_test, y_pred7)"
      ],
      "execution_count": 71,
      "outputs": [
        {
          "output_type": "stream",
          "name": "stdout",
          "text": [
            "Accuracy: 0.7623\n",
            "Precision: 0.6412\n",
            "Sensibilidad: 0.7623\n",
            "F1: 0.6898\n"
          ]
        }
      ]
    },
    {
      "cell_type": "markdown",
      "metadata": {
        "id": "NgVMlYTmpgVt"
      },
      "source": [
        "Comparandolo con las métricas del modelo 6, el modelo 7 obtiene una mejor precisión y un mejor accuracy por lo que nos quedamos con este modelo. "
      ]
    },
    {
      "cell_type": "code",
      "metadata": {
        "colab": {
          "base_uri": "https://localhost:8080/",
          "height": 311
        },
        "id": "Y00P2Tc_po9Y",
        "outputId": "b59371bf-be2d-4796-bc38-c2b83282efe4"
      },
      "source": [
        "# Creamos e imprimimos la matriz de confusión\n",
        "conf_matrix_if = confusion_matrix(y_pred7, Y_test,labels = [1,0]) # Coloco este orden de labels para que los fraudulentos queden como TP y los no fraudulentos como TN (ya que lo que se quiere ver es si son fraudulentos o no) \n",
        "plot_confusion_matrix(conf_matrix_if, classes=['Fraudulent','Not Fraudulent'],normalize= False,  title='Confusion matrix for Anomaly Detection')"
      ],
      "execution_count": 72,
      "outputs": [
        {
          "output_type": "display_data",
          "data": {
            "image/png": "[encoded data removed]",
            "text/plain": [
              "<Figure size 432x288 with 2 Axes>"
            ]
          },
          "metadata": {
            "needs_background": "light"
          }
        }
      ]
    },
    {
      "cell_type": "markdown",
      "metadata": {
        "id": "j_SUEu83QXR7"
      },
      "source": [
        ""
      ]
    }
  ]
}